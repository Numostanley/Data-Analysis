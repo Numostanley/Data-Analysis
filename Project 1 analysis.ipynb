{
 "cells": [
  {
   "cell_type": "code",
   "execution_count": 1,
   "source": [
    "import numpy as np\r\n",
    "import pandas as pd\r\n",
    "import matplotlib.pyplot as plt\r\n",
    "import sqlite3\r\n",
    "%matplotlib inline"
   ],
   "outputs": [],
   "metadata": {}
  },
  {
   "cell_type": "code",
   "execution_count": 2,
   "source": [
    "purchase = pd.read_csv(\r\n",
    "    'C:/Users/purchase_raw_data.csv',\r\n",
    "    parse_dates=['first_purchase_date','order_submit_date'])"
   ],
   "outputs": [],
   "metadata": {}
  },
  {
   "cell_type": "code",
   "execution_count": 3,
   "source": [
    "customer = pd.read_csv(\r\n",
    "    'C:/Users/customer_raw_data.csv',\r\n",
    "    parse_dates=['first_purchase_month'])"
   ],
   "outputs": [],
   "metadata": {}
  },
  {
   "cell_type": "code",
   "execution_count": 4,
   "source": [
    "purchase.head()"
   ],
   "outputs": [
    {
     "output_type": "execute_result",
     "data": {
      "text/plain": [
       "   shopper_id first_purchase_date order_submit_date  order_total\n",
       "0        1619          2014-05-10        2014-05-10        107.0\n",
       "1        1619          2014-05-10        2014-05-21         34.0\n",
       "2        1619          2014-05-10        2014-09-04        137.6\n",
       "3        1619          2014-05-10        2014-09-24        162.0\n",
       "4        1619          2014-05-10        2014-11-08        281.0"
      ],
      "text/html": [
       "<div>\n",
       "<style scoped>\n",
       "    .dataframe tbody tr th:only-of-type {\n",
       "        vertical-align: middle;\n",
       "    }\n",
       "\n",
       "    .dataframe tbody tr th {\n",
       "        vertical-align: top;\n",
       "    }\n",
       "\n",
       "    .dataframe thead th {\n",
       "        text-align: right;\n",
       "    }\n",
       "</style>\n",
       "<table border=\"1\" class=\"dataframe\">\n",
       "  <thead>\n",
       "    <tr style=\"text-align: right;\">\n",
       "      <th></th>\n",
       "      <th>shopper_id</th>\n",
       "      <th>first_purchase_date</th>\n",
       "      <th>order_submit_date</th>\n",
       "      <th>order_total</th>\n",
       "    </tr>\n",
       "  </thead>\n",
       "  <tbody>\n",
       "    <tr>\n",
       "      <td>0</td>\n",
       "      <td>1619</td>\n",
       "      <td>2014-05-10</td>\n",
       "      <td>2014-05-10</td>\n",
       "      <td>107.0</td>\n",
       "    </tr>\n",
       "    <tr>\n",
       "      <td>1</td>\n",
       "      <td>1619</td>\n",
       "      <td>2014-05-10</td>\n",
       "      <td>2014-05-21</td>\n",
       "      <td>34.0</td>\n",
       "    </tr>\n",
       "    <tr>\n",
       "      <td>2</td>\n",
       "      <td>1619</td>\n",
       "      <td>2014-05-10</td>\n",
       "      <td>2014-09-04</td>\n",
       "      <td>137.6</td>\n",
       "    </tr>\n",
       "    <tr>\n",
       "      <td>3</td>\n",
       "      <td>1619</td>\n",
       "      <td>2014-05-10</td>\n",
       "      <td>2014-09-24</td>\n",
       "      <td>162.0</td>\n",
       "    </tr>\n",
       "    <tr>\n",
       "      <td>4</td>\n",
       "      <td>1619</td>\n",
       "      <td>2014-05-10</td>\n",
       "      <td>2014-11-08</td>\n",
       "      <td>281.0</td>\n",
       "    </tr>\n",
       "  </tbody>\n",
       "</table>\n",
       "</div>"
      ]
     },
     "metadata": {},
     "execution_count": 4
    }
   ],
   "metadata": {}
  },
  {
   "cell_type": "code",
   "execution_count": 5,
   "source": [
    "customer.head(38)"
   ],
   "outputs": [
    {
     "output_type": "execute_result",
     "data": {
      "text/plain": [
       "   first_purchase_month  num_customers\n",
       "0                201403              4\n",
       "1                201404             79\n",
       "2                201405            132\n",
       "3                201406            195\n",
       "4                201407            205\n",
       "5                201408            256\n",
       "6                201409            232\n",
       "7                201410            146\n",
       "8                201411            244\n",
       "9                201412            358\n",
       "10               201501            275\n",
       "11               201502            276\n",
       "12               201503            361\n",
       "13               201504            215\n",
       "14               201505            240\n",
       "15               201506            221\n",
       "16               201507            224\n",
       "17               201508            319\n",
       "18               201509            291\n",
       "19               201510            244\n",
       "20               201511            157\n",
       "21               201512            253\n",
       "22               201601            355\n",
       "23               201602            348\n",
       "24               201603            316\n",
       "25               201604            327\n",
       "26               201605            384\n",
       "27               201606            518\n",
       "28               201607            387\n",
       "29               201608            339\n",
       "30               201609            326\n",
       "31               201610            267\n",
       "32               201611            293\n",
       "33               201612            381\n",
       "34               201701            411\n",
       "35               201702             30"
      ],
      "text/html": [
       "<div>\n",
       "<style scoped>\n",
       "    .dataframe tbody tr th:only-of-type {\n",
       "        vertical-align: middle;\n",
       "    }\n",
       "\n",
       "    .dataframe tbody tr th {\n",
       "        vertical-align: top;\n",
       "    }\n",
       "\n",
       "    .dataframe thead th {\n",
       "        text-align: right;\n",
       "    }\n",
       "</style>\n",
       "<table border=\"1\" class=\"dataframe\">\n",
       "  <thead>\n",
       "    <tr style=\"text-align: right;\">\n",
       "      <th></th>\n",
       "      <th>first_purchase_month</th>\n",
       "      <th>num_customers</th>\n",
       "    </tr>\n",
       "  </thead>\n",
       "  <tbody>\n",
       "    <tr>\n",
       "      <td>0</td>\n",
       "      <td>201403</td>\n",
       "      <td>4</td>\n",
       "    </tr>\n",
       "    <tr>\n",
       "      <td>1</td>\n",
       "      <td>201404</td>\n",
       "      <td>79</td>\n",
       "    </tr>\n",
       "    <tr>\n",
       "      <td>2</td>\n",
       "      <td>201405</td>\n",
       "      <td>132</td>\n",
       "    </tr>\n",
       "    <tr>\n",
       "      <td>3</td>\n",
       "      <td>201406</td>\n",
       "      <td>195</td>\n",
       "    </tr>\n",
       "    <tr>\n",
       "      <td>4</td>\n",
       "      <td>201407</td>\n",
       "      <td>205</td>\n",
       "    </tr>\n",
       "    <tr>\n",
       "      <td>5</td>\n",
       "      <td>201408</td>\n",
       "      <td>256</td>\n",
       "    </tr>\n",
       "    <tr>\n",
       "      <td>6</td>\n",
       "      <td>201409</td>\n",
       "      <td>232</td>\n",
       "    </tr>\n",
       "    <tr>\n",
       "      <td>7</td>\n",
       "      <td>201410</td>\n",
       "      <td>146</td>\n",
       "    </tr>\n",
       "    <tr>\n",
       "      <td>8</td>\n",
       "      <td>201411</td>\n",
       "      <td>244</td>\n",
       "    </tr>\n",
       "    <tr>\n",
       "      <td>9</td>\n",
       "      <td>201412</td>\n",
       "      <td>358</td>\n",
       "    </tr>\n",
       "    <tr>\n",
       "      <td>10</td>\n",
       "      <td>201501</td>\n",
       "      <td>275</td>\n",
       "    </tr>\n",
       "    <tr>\n",
       "      <td>11</td>\n",
       "      <td>201502</td>\n",
       "      <td>276</td>\n",
       "    </tr>\n",
       "    <tr>\n",
       "      <td>12</td>\n",
       "      <td>201503</td>\n",
       "      <td>361</td>\n",
       "    </tr>\n",
       "    <tr>\n",
       "      <td>13</td>\n",
       "      <td>201504</td>\n",
       "      <td>215</td>\n",
       "    </tr>\n",
       "    <tr>\n",
       "      <td>14</td>\n",
       "      <td>201505</td>\n",
       "      <td>240</td>\n",
       "    </tr>\n",
       "    <tr>\n",
       "      <td>15</td>\n",
       "      <td>201506</td>\n",
       "      <td>221</td>\n",
       "    </tr>\n",
       "    <tr>\n",
       "      <td>16</td>\n",
       "      <td>201507</td>\n",
       "      <td>224</td>\n",
       "    </tr>\n",
       "    <tr>\n",
       "      <td>17</td>\n",
       "      <td>201508</td>\n",
       "      <td>319</td>\n",
       "    </tr>\n",
       "    <tr>\n",
       "      <td>18</td>\n",
       "      <td>201509</td>\n",
       "      <td>291</td>\n",
       "    </tr>\n",
       "    <tr>\n",
       "      <td>19</td>\n",
       "      <td>201510</td>\n",
       "      <td>244</td>\n",
       "    </tr>\n",
       "    <tr>\n",
       "      <td>20</td>\n",
       "      <td>201511</td>\n",
       "      <td>157</td>\n",
       "    </tr>\n",
       "    <tr>\n",
       "      <td>21</td>\n",
       "      <td>201512</td>\n",
       "      <td>253</td>\n",
       "    </tr>\n",
       "    <tr>\n",
       "      <td>22</td>\n",
       "      <td>201601</td>\n",
       "      <td>355</td>\n",
       "    </tr>\n",
       "    <tr>\n",
       "      <td>23</td>\n",
       "      <td>201602</td>\n",
       "      <td>348</td>\n",
       "    </tr>\n",
       "    <tr>\n",
       "      <td>24</td>\n",
       "      <td>201603</td>\n",
       "      <td>316</td>\n",
       "    </tr>\n",
       "    <tr>\n",
       "      <td>25</td>\n",
       "      <td>201604</td>\n",
       "      <td>327</td>\n",
       "    </tr>\n",
       "    <tr>\n",
       "      <td>26</td>\n",
       "      <td>201605</td>\n",
       "      <td>384</td>\n",
       "    </tr>\n",
       "    <tr>\n",
       "      <td>27</td>\n",
       "      <td>201606</td>\n",
       "      <td>518</td>\n",
       "    </tr>\n",
       "    <tr>\n",
       "      <td>28</td>\n",
       "      <td>201607</td>\n",
       "      <td>387</td>\n",
       "    </tr>\n",
       "    <tr>\n",
       "      <td>29</td>\n",
       "      <td>201608</td>\n",
       "      <td>339</td>\n",
       "    </tr>\n",
       "    <tr>\n",
       "      <td>30</td>\n",
       "      <td>201609</td>\n",
       "      <td>326</td>\n",
       "    </tr>\n",
       "    <tr>\n",
       "      <td>31</td>\n",
       "      <td>201610</td>\n",
       "      <td>267</td>\n",
       "    </tr>\n",
       "    <tr>\n",
       "      <td>32</td>\n",
       "      <td>201611</td>\n",
       "      <td>293</td>\n",
       "    </tr>\n",
       "    <tr>\n",
       "      <td>33</td>\n",
       "      <td>201612</td>\n",
       "      <td>381</td>\n",
       "    </tr>\n",
       "    <tr>\n",
       "      <td>34</td>\n",
       "      <td>201701</td>\n",
       "      <td>411</td>\n",
       "    </tr>\n",
       "    <tr>\n",
       "      <td>35</td>\n",
       "      <td>201702</td>\n",
       "      <td>30</td>\n",
       "    </tr>\n",
       "  </tbody>\n",
       "</table>\n",
       "</div>"
      ]
     },
     "metadata": {},
     "execution_count": 5
    }
   ],
   "metadata": {}
  },
  {
   "cell_type": "markdown",
   "source": [
    "## Task 1"
   ],
   "metadata": {}
  },
  {
   "cell_type": "markdown",
   "source": [
    "calculate the LTV(life time value) of a customer cohort"
   ],
   "metadata": {}
  },
  {
   "cell_type": "code",
   "execution_count": 6,
   "source": [
    "cch=purchase.loc[(purchase['first_purchase_date'] == '2014-5')].reset_index()\r\n",
    "cch"
   ],
   "outputs": [
    {
     "output_type": "execute_result",
     "data": {
      "text/plain": [
       "    index  shopper_id first_purchase_date order_submit_date  order_total\n",
       "0     406        1696          2014-05-01        2014-05-01       160.95\n",
       "1     407        1696          2014-05-01        2014-05-03       141.00\n",
       "2     408        1696          2014-05-01        2014-06-21       367.00\n",
       "3     409        1696          2014-05-01        2014-07-16        65.70\n",
       "4     410        1696          2014-05-01        2014-12-04       339.98\n",
       "5     411        1696          2014-05-01        2015-08-28       276.00\n",
       "6     412        1696          2014-05-01        2016-04-28       276.00\n",
       "7    1065        1837          2014-05-01        2014-05-01       329.85\n",
       "8    1066        1837          2014-05-01        2014-07-05        58.00\n",
       "9    1067        1837          2014-05-01        2014-10-19        53.00\n",
       "10  13529       96071          2014-05-01        2014-05-01        29.95\n",
       "11  13530       96071          2014-05-01        2014-05-08        48.00\n",
       "12  13531       96071          2014-05-01        2014-11-15        34.99\n",
       "13  13613       96149          2014-05-01        2014-05-01        59.90\n",
       "14  13614       96149          2014-05-01        2014-05-10        48.00\n",
       "15  13615       96149          2014-05-01        2014-06-05        58.00\n",
       "16  13616       96149          2014-05-01        2016-08-12       150.00\n",
       "17  13972       96407          2014-05-01        2014-05-01       109.99\n",
       "18  13973       96407          2014-05-01        2015-07-28       188.40"
      ],
      "text/html": [
       "<div>\n",
       "<style scoped>\n",
       "    .dataframe tbody tr th:only-of-type {\n",
       "        vertical-align: middle;\n",
       "    }\n",
       "\n",
       "    .dataframe tbody tr th {\n",
       "        vertical-align: top;\n",
       "    }\n",
       "\n",
       "    .dataframe thead th {\n",
       "        text-align: right;\n",
       "    }\n",
       "</style>\n",
       "<table border=\"1\" class=\"dataframe\">\n",
       "  <thead>\n",
       "    <tr style=\"text-align: right;\">\n",
       "      <th></th>\n",
       "      <th>index</th>\n",
       "      <th>shopper_id</th>\n",
       "      <th>first_purchase_date</th>\n",
       "      <th>order_submit_date</th>\n",
       "      <th>order_total</th>\n",
       "    </tr>\n",
       "  </thead>\n",
       "  <tbody>\n",
       "    <tr>\n",
       "      <td>0</td>\n",
       "      <td>406</td>\n",
       "      <td>1696</td>\n",
       "      <td>2014-05-01</td>\n",
       "      <td>2014-05-01</td>\n",
       "      <td>160.95</td>\n",
       "    </tr>\n",
       "    <tr>\n",
       "      <td>1</td>\n",
       "      <td>407</td>\n",
       "      <td>1696</td>\n",
       "      <td>2014-05-01</td>\n",
       "      <td>2014-05-03</td>\n",
       "      <td>141.00</td>\n",
       "    </tr>\n",
       "    <tr>\n",
       "      <td>2</td>\n",
       "      <td>408</td>\n",
       "      <td>1696</td>\n",
       "      <td>2014-05-01</td>\n",
       "      <td>2014-06-21</td>\n",
       "      <td>367.00</td>\n",
       "    </tr>\n",
       "    <tr>\n",
       "      <td>3</td>\n",
       "      <td>409</td>\n",
       "      <td>1696</td>\n",
       "      <td>2014-05-01</td>\n",
       "      <td>2014-07-16</td>\n",
       "      <td>65.70</td>\n",
       "    </tr>\n",
       "    <tr>\n",
       "      <td>4</td>\n",
       "      <td>410</td>\n",
       "      <td>1696</td>\n",
       "      <td>2014-05-01</td>\n",
       "      <td>2014-12-04</td>\n",
       "      <td>339.98</td>\n",
       "    </tr>\n",
       "    <tr>\n",
       "      <td>5</td>\n",
       "      <td>411</td>\n",
       "      <td>1696</td>\n",
       "      <td>2014-05-01</td>\n",
       "      <td>2015-08-28</td>\n",
       "      <td>276.00</td>\n",
       "    </tr>\n",
       "    <tr>\n",
       "      <td>6</td>\n",
       "      <td>412</td>\n",
       "      <td>1696</td>\n",
       "      <td>2014-05-01</td>\n",
       "      <td>2016-04-28</td>\n",
       "      <td>276.00</td>\n",
       "    </tr>\n",
       "    <tr>\n",
       "      <td>7</td>\n",
       "      <td>1065</td>\n",
       "      <td>1837</td>\n",
       "      <td>2014-05-01</td>\n",
       "      <td>2014-05-01</td>\n",
       "      <td>329.85</td>\n",
       "    </tr>\n",
       "    <tr>\n",
       "      <td>8</td>\n",
       "      <td>1066</td>\n",
       "      <td>1837</td>\n",
       "      <td>2014-05-01</td>\n",
       "      <td>2014-07-05</td>\n",
       "      <td>58.00</td>\n",
       "    </tr>\n",
       "    <tr>\n",
       "      <td>9</td>\n",
       "      <td>1067</td>\n",
       "      <td>1837</td>\n",
       "      <td>2014-05-01</td>\n",
       "      <td>2014-10-19</td>\n",
       "      <td>53.00</td>\n",
       "    </tr>\n",
       "    <tr>\n",
       "      <td>10</td>\n",
       "      <td>13529</td>\n",
       "      <td>96071</td>\n",
       "      <td>2014-05-01</td>\n",
       "      <td>2014-05-01</td>\n",
       "      <td>29.95</td>\n",
       "    </tr>\n",
       "    <tr>\n",
       "      <td>11</td>\n",
       "      <td>13530</td>\n",
       "      <td>96071</td>\n",
       "      <td>2014-05-01</td>\n",
       "      <td>2014-05-08</td>\n",
       "      <td>48.00</td>\n",
       "    </tr>\n",
       "    <tr>\n",
       "      <td>12</td>\n",
       "      <td>13531</td>\n",
       "      <td>96071</td>\n",
       "      <td>2014-05-01</td>\n",
       "      <td>2014-11-15</td>\n",
       "      <td>34.99</td>\n",
       "    </tr>\n",
       "    <tr>\n",
       "      <td>13</td>\n",
       "      <td>13613</td>\n",
       "      <td>96149</td>\n",
       "      <td>2014-05-01</td>\n",
       "      <td>2014-05-01</td>\n",
       "      <td>59.90</td>\n",
       "    </tr>\n",
       "    <tr>\n",
       "      <td>14</td>\n",
       "      <td>13614</td>\n",
       "      <td>96149</td>\n",
       "      <td>2014-05-01</td>\n",
       "      <td>2014-05-10</td>\n",
       "      <td>48.00</td>\n",
       "    </tr>\n",
       "    <tr>\n",
       "      <td>15</td>\n",
       "      <td>13615</td>\n",
       "      <td>96149</td>\n",
       "      <td>2014-05-01</td>\n",
       "      <td>2014-06-05</td>\n",
       "      <td>58.00</td>\n",
       "    </tr>\n",
       "    <tr>\n",
       "      <td>16</td>\n",
       "      <td>13616</td>\n",
       "      <td>96149</td>\n",
       "      <td>2014-05-01</td>\n",
       "      <td>2016-08-12</td>\n",
       "      <td>150.00</td>\n",
       "    </tr>\n",
       "    <tr>\n",
       "      <td>17</td>\n",
       "      <td>13972</td>\n",
       "      <td>96407</td>\n",
       "      <td>2014-05-01</td>\n",
       "      <td>2014-05-01</td>\n",
       "      <td>109.99</td>\n",
       "    </tr>\n",
       "    <tr>\n",
       "      <td>18</td>\n",
       "      <td>13973</td>\n",
       "      <td>96407</td>\n",
       "      <td>2014-05-01</td>\n",
       "      <td>2015-07-28</td>\n",
       "      <td>188.40</td>\n",
       "    </tr>\n",
       "  </tbody>\n",
       "</table>\n",
       "</div>"
      ]
     },
     "metadata": {},
     "execution_count": 6
    }
   ],
   "metadata": {}
  },
  {
   "cell_type": "code",
   "execution_count": 7,
   "source": [
    "mask = (purchase['first_purchase_date'].dt.to_period('M') == pd.to_datetime('2014-5').to_period('M'))\r\n",
    "cg = purchase.loc[mask]"
   ],
   "outputs": [],
   "metadata": {}
  },
  {
   "cell_type": "code",
   "execution_count": 8,
   "source": [
    "cg"
   ],
   "outputs": [
    {
     "output_type": "execute_result",
     "data": {
      "text/plain": [
       "       shopper_id first_purchase_date order_submit_date  order_total\n",
       "0            1619          2014-05-10        2014-05-10       107.00\n",
       "1            1619          2014-05-10        2014-05-21        34.00\n",
       "2            1619          2014-05-10        2014-09-04       137.60\n",
       "3            1619          2014-05-10        2014-09-24       162.00\n",
       "4            1619          2014-05-10        2014-11-08       281.00\n",
       "...           ...                 ...               ...          ...\n",
       "14436       97610          2014-05-31        2014-12-17        34.00\n",
       "14437       97610          2014-05-31        2015-02-24        88.00\n",
       "14438       97610          2014-05-31        2015-07-04        39.99\n",
       "14439       97610          2014-05-31        2016-09-16        24.00\n",
       "14440       97610          2014-05-31        2017-01-12       102.00\n",
       "\n",
       "[710 rows x 4 columns]"
      ],
      "text/html": [
       "<div>\n",
       "<style scoped>\n",
       "    .dataframe tbody tr th:only-of-type {\n",
       "        vertical-align: middle;\n",
       "    }\n",
       "\n",
       "    .dataframe tbody tr th {\n",
       "        vertical-align: top;\n",
       "    }\n",
       "\n",
       "    .dataframe thead th {\n",
       "        text-align: right;\n",
       "    }\n",
       "</style>\n",
       "<table border=\"1\" class=\"dataframe\">\n",
       "  <thead>\n",
       "    <tr style=\"text-align: right;\">\n",
       "      <th></th>\n",
       "      <th>shopper_id</th>\n",
       "      <th>first_purchase_date</th>\n",
       "      <th>order_submit_date</th>\n",
       "      <th>order_total</th>\n",
       "    </tr>\n",
       "  </thead>\n",
       "  <tbody>\n",
       "    <tr>\n",
       "      <td>0</td>\n",
       "      <td>1619</td>\n",
       "      <td>2014-05-10</td>\n",
       "      <td>2014-05-10</td>\n",
       "      <td>107.00</td>\n",
       "    </tr>\n",
       "    <tr>\n",
       "      <td>1</td>\n",
       "      <td>1619</td>\n",
       "      <td>2014-05-10</td>\n",
       "      <td>2014-05-21</td>\n",
       "      <td>34.00</td>\n",
       "    </tr>\n",
       "    <tr>\n",
       "      <td>2</td>\n",
       "      <td>1619</td>\n",
       "      <td>2014-05-10</td>\n",
       "      <td>2014-09-04</td>\n",
       "      <td>137.60</td>\n",
       "    </tr>\n",
       "    <tr>\n",
       "      <td>3</td>\n",
       "      <td>1619</td>\n",
       "      <td>2014-05-10</td>\n",
       "      <td>2014-09-24</td>\n",
       "      <td>162.00</td>\n",
       "    </tr>\n",
       "    <tr>\n",
       "      <td>4</td>\n",
       "      <td>1619</td>\n",
       "      <td>2014-05-10</td>\n",
       "      <td>2014-11-08</td>\n",
       "      <td>281.00</td>\n",
       "    </tr>\n",
       "    <tr>\n",
       "      <td>...</td>\n",
       "      <td>...</td>\n",
       "      <td>...</td>\n",
       "      <td>...</td>\n",
       "      <td>...</td>\n",
       "    </tr>\n",
       "    <tr>\n",
       "      <td>14436</td>\n",
       "      <td>97610</td>\n",
       "      <td>2014-05-31</td>\n",
       "      <td>2014-12-17</td>\n",
       "      <td>34.00</td>\n",
       "    </tr>\n",
       "    <tr>\n",
       "      <td>14437</td>\n",
       "      <td>97610</td>\n",
       "      <td>2014-05-31</td>\n",
       "      <td>2015-02-24</td>\n",
       "      <td>88.00</td>\n",
       "    </tr>\n",
       "    <tr>\n",
       "      <td>14438</td>\n",
       "      <td>97610</td>\n",
       "      <td>2014-05-31</td>\n",
       "      <td>2015-07-04</td>\n",
       "      <td>39.99</td>\n",
       "    </tr>\n",
       "    <tr>\n",
       "      <td>14439</td>\n",
       "      <td>97610</td>\n",
       "      <td>2014-05-31</td>\n",
       "      <td>2016-09-16</td>\n",
       "      <td>24.00</td>\n",
       "    </tr>\n",
       "    <tr>\n",
       "      <td>14440</td>\n",
       "      <td>97610</td>\n",
       "      <td>2014-05-31</td>\n",
       "      <td>2017-01-12</td>\n",
       "      <td>102.00</td>\n",
       "    </tr>\n",
       "  </tbody>\n",
       "</table>\n",
       "<p>710 rows × 4 columns</p>\n",
       "</div>"
      ]
     },
     "metadata": {},
     "execution_count": 8
    }
   ],
   "metadata": {}
  },
  {
   "cell_type": "code",
   "execution_count": 9,
   "source": [
    "cpurch = cg['shopper_id'].value_counts()\r\n",
    "cpurch.mean()"
   ],
   "outputs": [
    {
     "output_type": "execute_result",
     "data": {
      "text/plain": [
       "5.378787878787879"
      ]
     },
     "metadata": {},
     "execution_count": 9
    }
   ],
   "metadata": {}
  },
  {
   "cell_type": "code",
   "execution_count": 10,
   "source": [
    "cid = cg.groupby(['shopper_id'])[['order_total']].sum()\r\n",
    "cid.head(20)"
   ],
   "outputs": [
    {
     "output_type": "execute_result",
     "data": {
      "text/plain": [
       "            order_total\n",
       "shopper_id             \n",
       "1619            2274.03\n",
       "1621            1529.95\n",
       "1622             373.98\n",
       "1640             584.50\n",
       "1643             658.99\n",
       "1646             246.49\n",
       "1648            1784.90\n",
       "1656            3303.98\n",
       "1665            4787.39\n",
       "1672             886.90\n",
       "1677            3772.10\n",
       "1689              67.00\n",
       "1695              91.35\n",
       "1696            1626.63\n",
       "1697            1137.34\n",
       "1700            1395.80\n",
       "1722            1123.49\n",
       "1731            3942.78\n",
       "1741            2732.00\n",
       "1742             253.90"
      ],
      "text/html": [
       "<div>\n",
       "<style scoped>\n",
       "    .dataframe tbody tr th:only-of-type {\n",
       "        vertical-align: middle;\n",
       "    }\n",
       "\n",
       "    .dataframe tbody tr th {\n",
       "        vertical-align: top;\n",
       "    }\n",
       "\n",
       "    .dataframe thead th {\n",
       "        text-align: right;\n",
       "    }\n",
       "</style>\n",
       "<table border=\"1\" class=\"dataframe\">\n",
       "  <thead>\n",
       "    <tr style=\"text-align: right;\">\n",
       "      <th></th>\n",
       "      <th>order_total</th>\n",
       "    </tr>\n",
       "    <tr>\n",
       "      <th>shopper_id</th>\n",
       "      <th></th>\n",
       "    </tr>\n",
       "  </thead>\n",
       "  <tbody>\n",
       "    <tr>\n",
       "      <td>1619</td>\n",
       "      <td>2274.03</td>\n",
       "    </tr>\n",
       "    <tr>\n",
       "      <td>1621</td>\n",
       "      <td>1529.95</td>\n",
       "    </tr>\n",
       "    <tr>\n",
       "      <td>1622</td>\n",
       "      <td>373.98</td>\n",
       "    </tr>\n",
       "    <tr>\n",
       "      <td>1640</td>\n",
       "      <td>584.50</td>\n",
       "    </tr>\n",
       "    <tr>\n",
       "      <td>1643</td>\n",
       "      <td>658.99</td>\n",
       "    </tr>\n",
       "    <tr>\n",
       "      <td>1646</td>\n",
       "      <td>246.49</td>\n",
       "    </tr>\n",
       "    <tr>\n",
       "      <td>1648</td>\n",
       "      <td>1784.90</td>\n",
       "    </tr>\n",
       "    <tr>\n",
       "      <td>1656</td>\n",
       "      <td>3303.98</td>\n",
       "    </tr>\n",
       "    <tr>\n",
       "      <td>1665</td>\n",
       "      <td>4787.39</td>\n",
       "    </tr>\n",
       "    <tr>\n",
       "      <td>1672</td>\n",
       "      <td>886.90</td>\n",
       "    </tr>\n",
       "    <tr>\n",
       "      <td>1677</td>\n",
       "      <td>3772.10</td>\n",
       "    </tr>\n",
       "    <tr>\n",
       "      <td>1689</td>\n",
       "      <td>67.00</td>\n",
       "    </tr>\n",
       "    <tr>\n",
       "      <td>1695</td>\n",
       "      <td>91.35</td>\n",
       "    </tr>\n",
       "    <tr>\n",
       "      <td>1696</td>\n",
       "      <td>1626.63</td>\n",
       "    </tr>\n",
       "    <tr>\n",
       "      <td>1697</td>\n",
       "      <td>1137.34</td>\n",
       "    </tr>\n",
       "    <tr>\n",
       "      <td>1700</td>\n",
       "      <td>1395.80</td>\n",
       "    </tr>\n",
       "    <tr>\n",
       "      <td>1722</td>\n",
       "      <td>1123.49</td>\n",
       "    </tr>\n",
       "    <tr>\n",
       "      <td>1731</td>\n",
       "      <td>3942.78</td>\n",
       "    </tr>\n",
       "    <tr>\n",
       "      <td>1741</td>\n",
       "      <td>2732.00</td>\n",
       "    </tr>\n",
       "    <tr>\n",
       "      <td>1742</td>\n",
       "      <td>253.90</td>\n",
       "    </tr>\n",
       "  </tbody>\n",
       "</table>\n",
       "</div>"
      ]
     },
     "metadata": {},
     "execution_count": 10
    }
   ],
   "metadata": {}
  },
  {
   "cell_type": "code",
   "execution_count": 11,
   "source": [
    "cid.sum()"
   ],
   "outputs": [
    {
     "output_type": "execute_result",
     "data": {
      "text/plain": [
       "order_total    70923.2\n",
       "dtype: float64"
      ]
     },
     "metadata": {},
     "execution_count": 11
    }
   ],
   "metadata": {}
  },
  {
   "cell_type": "code",
   "execution_count": 12,
   "source": [
    "cdate = cg.groupby(['shopper_id'])['order_submit_date'].agg(['first','last'])\r\n",
    "cdate.head(20)"
   ],
   "outputs": [
    {
     "output_type": "execute_result",
     "data": {
      "text/plain": [
       "                first       last\n",
       "shopper_id                      \n",
       "1619       2014-05-10 2016-11-28\n",
       "1621       2014-05-23 2017-01-03\n",
       "1622       2014-05-19 2016-03-11\n",
       "1640       2014-05-13 2016-04-26\n",
       "1643       2014-05-07 2016-11-25\n",
       "1646       2014-05-07 2016-03-20\n",
       "1648       2014-05-15 2017-01-21\n",
       "1656       2014-05-09 2015-11-17\n",
       "1665       2014-05-23 2016-09-29\n",
       "1672       2014-05-12 2015-11-30\n",
       "1677       2014-05-19 2016-10-17\n",
       "1689       2014-05-07 2016-03-22\n",
       "1695       2014-05-22 2014-12-01\n",
       "1696       2014-05-01 2016-04-28\n",
       "1697       2014-05-10 2015-07-30\n",
       "1700       2014-05-26 2016-10-19\n",
       "1722       2014-05-08 2016-01-03\n",
       "1731       2014-05-13 2017-02-03\n",
       "1741       2014-05-18 2016-12-28\n",
       "1742       2014-05-23 2016-07-23"
      ],
      "text/html": [
       "<div>\n",
       "<style scoped>\n",
       "    .dataframe tbody tr th:only-of-type {\n",
       "        vertical-align: middle;\n",
       "    }\n",
       "\n",
       "    .dataframe tbody tr th {\n",
       "        vertical-align: top;\n",
       "    }\n",
       "\n",
       "    .dataframe thead th {\n",
       "        text-align: right;\n",
       "    }\n",
       "</style>\n",
       "<table border=\"1\" class=\"dataframe\">\n",
       "  <thead>\n",
       "    <tr style=\"text-align: right;\">\n",
       "      <th></th>\n",
       "      <th>first</th>\n",
       "      <th>last</th>\n",
       "    </tr>\n",
       "    <tr>\n",
       "      <th>shopper_id</th>\n",
       "      <th></th>\n",
       "      <th></th>\n",
       "    </tr>\n",
       "  </thead>\n",
       "  <tbody>\n",
       "    <tr>\n",
       "      <td>1619</td>\n",
       "      <td>2014-05-10</td>\n",
       "      <td>2016-11-28</td>\n",
       "    </tr>\n",
       "    <tr>\n",
       "      <td>1621</td>\n",
       "      <td>2014-05-23</td>\n",
       "      <td>2017-01-03</td>\n",
       "    </tr>\n",
       "    <tr>\n",
       "      <td>1622</td>\n",
       "      <td>2014-05-19</td>\n",
       "      <td>2016-03-11</td>\n",
       "    </tr>\n",
       "    <tr>\n",
       "      <td>1640</td>\n",
       "      <td>2014-05-13</td>\n",
       "      <td>2016-04-26</td>\n",
       "    </tr>\n",
       "    <tr>\n",
       "      <td>1643</td>\n",
       "      <td>2014-05-07</td>\n",
       "      <td>2016-11-25</td>\n",
       "    </tr>\n",
       "    <tr>\n",
       "      <td>1646</td>\n",
       "      <td>2014-05-07</td>\n",
       "      <td>2016-03-20</td>\n",
       "    </tr>\n",
       "    <tr>\n",
       "      <td>1648</td>\n",
       "      <td>2014-05-15</td>\n",
       "      <td>2017-01-21</td>\n",
       "    </tr>\n",
       "    <tr>\n",
       "      <td>1656</td>\n",
       "      <td>2014-05-09</td>\n",
       "      <td>2015-11-17</td>\n",
       "    </tr>\n",
       "    <tr>\n",
       "      <td>1665</td>\n",
       "      <td>2014-05-23</td>\n",
       "      <td>2016-09-29</td>\n",
       "    </tr>\n",
       "    <tr>\n",
       "      <td>1672</td>\n",
       "      <td>2014-05-12</td>\n",
       "      <td>2015-11-30</td>\n",
       "    </tr>\n",
       "    <tr>\n",
       "      <td>1677</td>\n",
       "      <td>2014-05-19</td>\n",
       "      <td>2016-10-17</td>\n",
       "    </tr>\n",
       "    <tr>\n",
       "      <td>1689</td>\n",
       "      <td>2014-05-07</td>\n",
       "      <td>2016-03-22</td>\n",
       "    </tr>\n",
       "    <tr>\n",
       "      <td>1695</td>\n",
       "      <td>2014-05-22</td>\n",
       "      <td>2014-12-01</td>\n",
       "    </tr>\n",
       "    <tr>\n",
       "      <td>1696</td>\n",
       "      <td>2014-05-01</td>\n",
       "      <td>2016-04-28</td>\n",
       "    </tr>\n",
       "    <tr>\n",
       "      <td>1697</td>\n",
       "      <td>2014-05-10</td>\n",
       "      <td>2015-07-30</td>\n",
       "    </tr>\n",
       "    <tr>\n",
       "      <td>1700</td>\n",
       "      <td>2014-05-26</td>\n",
       "      <td>2016-10-19</td>\n",
       "    </tr>\n",
       "    <tr>\n",
       "      <td>1722</td>\n",
       "      <td>2014-05-08</td>\n",
       "      <td>2016-01-03</td>\n",
       "    </tr>\n",
       "    <tr>\n",
       "      <td>1731</td>\n",
       "      <td>2014-05-13</td>\n",
       "      <td>2017-02-03</td>\n",
       "    </tr>\n",
       "    <tr>\n",
       "      <td>1741</td>\n",
       "      <td>2014-05-18</td>\n",
       "      <td>2016-12-28</td>\n",
       "    </tr>\n",
       "    <tr>\n",
       "      <td>1742</td>\n",
       "      <td>2014-05-23</td>\n",
       "      <td>2016-07-23</td>\n",
       "    </tr>\n",
       "  </tbody>\n",
       "</table>\n",
       "</div>"
      ]
     },
     "metadata": {},
     "execution_count": 12
    }
   ],
   "metadata": {}
  },
  {
   "cell_type": "code",
   "execution_count": 13,
   "source": [
    "cdate.columns"
   ],
   "outputs": [
    {
     "output_type": "execute_result",
     "data": {
      "text/plain": [
       "Index(['first', 'last'], dtype='object')"
      ]
     },
     "metadata": {},
     "execution_count": 13
    }
   ],
   "metadata": {}
  },
  {
   "cell_type": "code",
   "execution_count": 14,
   "source": [
    "cdate['lifespan']=cdate['last'].dt.to_period('M').astype(int) - cdate['first'].dt.to_period('M').astype(int)\r\n",
    "cdate.head()"
   ],
   "outputs": [
    {
     "output_type": "execute_result",
     "data": {
      "text/plain": [
       "                first       last  lifespan\n",
       "shopper_id                                \n",
       "1619       2014-05-10 2016-11-28        30\n",
       "1621       2014-05-23 2017-01-03        32\n",
       "1622       2014-05-19 2016-03-11        22\n",
       "1640       2014-05-13 2016-04-26        23\n",
       "1643       2014-05-07 2016-11-25        30"
      ],
      "text/html": [
       "<div>\n",
       "<style scoped>\n",
       "    .dataframe tbody tr th:only-of-type {\n",
       "        vertical-align: middle;\n",
       "    }\n",
       "\n",
       "    .dataframe tbody tr th {\n",
       "        vertical-align: top;\n",
       "    }\n",
       "\n",
       "    .dataframe thead th {\n",
       "        text-align: right;\n",
       "    }\n",
       "</style>\n",
       "<table border=\"1\" class=\"dataframe\">\n",
       "  <thead>\n",
       "    <tr style=\"text-align: right;\">\n",
       "      <th></th>\n",
       "      <th>first</th>\n",
       "      <th>last</th>\n",
       "      <th>lifespan</th>\n",
       "    </tr>\n",
       "    <tr>\n",
       "      <th>shopper_id</th>\n",
       "      <th></th>\n",
       "      <th></th>\n",
       "      <th></th>\n",
       "    </tr>\n",
       "  </thead>\n",
       "  <tbody>\n",
       "    <tr>\n",
       "      <td>1619</td>\n",
       "      <td>2014-05-10</td>\n",
       "      <td>2016-11-28</td>\n",
       "      <td>30</td>\n",
       "    </tr>\n",
       "    <tr>\n",
       "      <td>1621</td>\n",
       "      <td>2014-05-23</td>\n",
       "      <td>2017-01-03</td>\n",
       "      <td>32</td>\n",
       "    </tr>\n",
       "    <tr>\n",
       "      <td>1622</td>\n",
       "      <td>2014-05-19</td>\n",
       "      <td>2016-03-11</td>\n",
       "      <td>22</td>\n",
       "    </tr>\n",
       "    <tr>\n",
       "      <td>1640</td>\n",
       "      <td>2014-05-13</td>\n",
       "      <td>2016-04-26</td>\n",
       "      <td>23</td>\n",
       "    </tr>\n",
       "    <tr>\n",
       "      <td>1643</td>\n",
       "      <td>2014-05-07</td>\n",
       "      <td>2016-11-25</td>\n",
       "      <td>30</td>\n",
       "    </tr>\n",
       "  </tbody>\n",
       "</table>\n",
       "</div>"
      ]
     },
     "metadata": {},
     "execution_count": 14
    }
   ],
   "metadata": {}
  },
  {
   "cell_type": "code",
   "execution_count": 15,
   "source": [
    "cdate.mean()"
   ],
   "outputs": [
    {
     "output_type": "execute_result",
     "data": {
      "text/plain": [
       "lifespan    10.318182\n",
       "dtype: float64"
      ]
     },
     "metadata": {},
     "execution_count": 15
    }
   ],
   "metadata": {}
  },
  {
   "cell_type": "code",
   "execution_count": 16,
   "source": [
    "cv = cid.sum() * cpurch.mean()\r\n",
    "clp = cdate['lifespan'].mean()\r\n",
    "cltv = (cv) * (clp)\r\n",
    "cltv"
   ],
   "outputs": [
    {
     "output_type": "execute_result",
     "data": {
      "text/plain": [
       "order_total    3.936189e+06\n",
       "dtype: float64"
      ]
     },
     "metadata": {},
     "execution_count": 16
    }
   ],
   "metadata": {}
  },
  {
   "cell_type": "code",
   "execution_count": 17,
   "source": [
    "cv.round()"
   ],
   "outputs": [
    {
     "output_type": "execute_result",
     "data": {
      "text/plain": [
       "order_total    381481.0\n",
       "dtype: float64"
      ]
     },
     "metadata": {},
     "execution_count": 17
    }
   ],
   "metadata": {}
  },
  {
   "cell_type": "code",
   "execution_count": 18,
   "source": [
    "clp"
   ],
   "outputs": [
    {
     "output_type": "execute_result",
     "data": {
      "text/plain": [
       "10.318181818181818"
      ]
     },
     "metadata": {},
     "execution_count": 18
    }
   ],
   "metadata": {}
  },
  {
   "cell_type": "markdown",
   "source": [
    "## From the dateset provided, the customer life time value for the customer cohort '2014-05' is = 3,936,189"
   ],
   "metadata": {}
  },
  {
   "cell_type": "markdown",
   "source": [
    "## Task 2"
   ],
   "metadata": {}
  },
  {
   "cell_type": "markdown",
   "source": [
    "Determine the retention rate of a customer cohort over time."
   ],
   "metadata": {}
  },
  {
   "cell_type": "code",
   "execution_count": 19,
   "source": [
    "r=(cg['order_submit_date'].dt.to_period('Y') == pd.to_datetime('2014').to_period('Y'))\r\n",
    "S=cg.loc[r]\r\n",
    "S"
   ],
   "outputs": [
    {
     "output_type": "execute_result",
     "data": {
      "text/plain": [
       "       shopper_id first_purchase_date order_submit_date  order_total\n",
       "0            1619          2014-05-10        2014-05-10       107.00\n",
       "1            1619          2014-05-10        2014-05-21        34.00\n",
       "2            1619          2014-05-10        2014-09-04       137.60\n",
       "3            1619          2014-05-10        2014-09-24       162.00\n",
       "4            1619          2014-05-10        2014-11-08       281.00\n",
       "...           ...                 ...               ...          ...\n",
       "14390       97592          2014-05-31        2014-05-31        34.00\n",
       "14433       97610          2014-05-31        2014-05-31        48.00\n",
       "14434       97610          2014-05-31        2014-06-14        37.95\n",
       "14435       97610          2014-05-31        2014-12-15        24.00\n",
       "14436       97610          2014-05-31        2014-12-17        34.00\n",
       "\n",
       "[341 rows x 4 columns]"
      ],
      "text/html": [
       "<div>\n",
       "<style scoped>\n",
       "    .dataframe tbody tr th:only-of-type {\n",
       "        vertical-align: middle;\n",
       "    }\n",
       "\n",
       "    .dataframe tbody tr th {\n",
       "        vertical-align: top;\n",
       "    }\n",
       "\n",
       "    .dataframe thead th {\n",
       "        text-align: right;\n",
       "    }\n",
       "</style>\n",
       "<table border=\"1\" class=\"dataframe\">\n",
       "  <thead>\n",
       "    <tr style=\"text-align: right;\">\n",
       "      <th></th>\n",
       "      <th>shopper_id</th>\n",
       "      <th>first_purchase_date</th>\n",
       "      <th>order_submit_date</th>\n",
       "      <th>order_total</th>\n",
       "    </tr>\n",
       "  </thead>\n",
       "  <tbody>\n",
       "    <tr>\n",
       "      <td>0</td>\n",
       "      <td>1619</td>\n",
       "      <td>2014-05-10</td>\n",
       "      <td>2014-05-10</td>\n",
       "      <td>107.00</td>\n",
       "    </tr>\n",
       "    <tr>\n",
       "      <td>1</td>\n",
       "      <td>1619</td>\n",
       "      <td>2014-05-10</td>\n",
       "      <td>2014-05-21</td>\n",
       "      <td>34.00</td>\n",
       "    </tr>\n",
       "    <tr>\n",
       "      <td>2</td>\n",
       "      <td>1619</td>\n",
       "      <td>2014-05-10</td>\n",
       "      <td>2014-09-04</td>\n",
       "      <td>137.60</td>\n",
       "    </tr>\n",
       "    <tr>\n",
       "      <td>3</td>\n",
       "      <td>1619</td>\n",
       "      <td>2014-05-10</td>\n",
       "      <td>2014-09-24</td>\n",
       "      <td>162.00</td>\n",
       "    </tr>\n",
       "    <tr>\n",
       "      <td>4</td>\n",
       "      <td>1619</td>\n",
       "      <td>2014-05-10</td>\n",
       "      <td>2014-11-08</td>\n",
       "      <td>281.00</td>\n",
       "    </tr>\n",
       "    <tr>\n",
       "      <td>...</td>\n",
       "      <td>...</td>\n",
       "      <td>...</td>\n",
       "      <td>...</td>\n",
       "      <td>...</td>\n",
       "    </tr>\n",
       "    <tr>\n",
       "      <td>14390</td>\n",
       "      <td>97592</td>\n",
       "      <td>2014-05-31</td>\n",
       "      <td>2014-05-31</td>\n",
       "      <td>34.00</td>\n",
       "    </tr>\n",
       "    <tr>\n",
       "      <td>14433</td>\n",
       "      <td>97610</td>\n",
       "      <td>2014-05-31</td>\n",
       "      <td>2014-05-31</td>\n",
       "      <td>48.00</td>\n",
       "    </tr>\n",
       "    <tr>\n",
       "      <td>14434</td>\n",
       "      <td>97610</td>\n",
       "      <td>2014-05-31</td>\n",
       "      <td>2014-06-14</td>\n",
       "      <td>37.95</td>\n",
       "    </tr>\n",
       "    <tr>\n",
       "      <td>14435</td>\n",
       "      <td>97610</td>\n",
       "      <td>2014-05-31</td>\n",
       "      <td>2014-12-15</td>\n",
       "      <td>24.00</td>\n",
       "    </tr>\n",
       "    <tr>\n",
       "      <td>14436</td>\n",
       "      <td>97610</td>\n",
       "      <td>2014-05-31</td>\n",
       "      <td>2014-12-17</td>\n",
       "      <td>34.00</td>\n",
       "    </tr>\n",
       "  </tbody>\n",
       "</table>\n",
       "<p>341 rows × 4 columns</p>\n",
       "</div>"
      ]
     },
     "metadata": {},
     "execution_count": 19
    }
   ],
   "metadata": {}
  },
  {
   "cell_type": "code",
   "execution_count": 20,
   "source": [
    "S['shopper_id'].value_counts().shape[0]"
   ],
   "outputs": [
    {
     "output_type": "execute_result",
     "data": {
      "text/plain": [
       "132"
      ]
     },
     "metadata": {},
     "execution_count": 20
    }
   ],
   "metadata": {}
  },
  {
   "cell_type": "code",
   "execution_count": 21,
   "source": [
    "r15=(cg['order_submit_date'].dt.to_period('Y') == pd.to_datetime('2015').to_period('Y'))\r\n",
    "E15=cg.loc[r15]\r\n",
    "E15['shopper_id'].value_counts().shape[0]"
   ],
   "outputs": [
    {
     "output_type": "execute_result",
     "data": {
      "text/plain": [
       "56"
      ]
     },
     "metadata": {},
     "execution_count": 21
    }
   ],
   "metadata": {}
  },
  {
   "cell_type": "code",
   "execution_count": 22,
   "source": [
    "r16=(cg['order_submit_date'].dt.to_period('Y') == pd.to_datetime('2016').to_period('Y'))\r\n",
    "E16=cg.loc[r16]\r\n",
    "E16['shopper_id'].value_counts().shape[0]"
   ],
   "outputs": [
    {
     "output_type": "execute_result",
     "data": {
      "text/plain": [
       "32"
      ]
     },
     "metadata": {},
     "execution_count": 22
    }
   ],
   "metadata": {}
  },
  {
   "cell_type": "code",
   "execution_count": 23,
   "source": [
    "r17=(cg['order_submit_date'].dt.to_period('Y') == pd.to_datetime('2017').to_period('Y'))\r\n",
    "E17=cg.loc[r17]\r\n",
    "E17['shopper_id'].value_counts().shape[0]"
   ],
   "outputs": [
    {
     "output_type": "execute_result",
     "data": {
      "text/plain": [
       "9"
      ]
     },
     "metadata": {},
     "execution_count": 23
    }
   ],
   "metadata": {}
  },
  {
   "cell_type": "code",
   "execution_count": 24,
   "source": [
    "crr15 = E15['shopper_id'].value_counts().shape[0] / S['shopper_id'].value_counts().shape[0] *100\r\n",
    "crr15"
   ],
   "outputs": [
    {
     "output_type": "execute_result",
     "data": {
      "text/plain": [
       "42.42424242424242"
      ]
     },
     "metadata": {},
     "execution_count": 24
    }
   ],
   "metadata": {}
  },
  {
   "cell_type": "code",
   "execution_count": 25,
   "source": [
    "crr16 = E16['shopper_id'].value_counts().shape[0] / S['shopper_id'].value_counts().shape[0] *100\r\n",
    "crr16"
   ],
   "outputs": [
    {
     "output_type": "execute_result",
     "data": {
      "text/plain": [
       "24.242424242424242"
      ]
     },
     "metadata": {},
     "execution_count": 25
    }
   ],
   "metadata": {}
  },
  {
   "cell_type": "code",
   "execution_count": 26,
   "source": [
    "crr17 = E17['shopper_id'].value_counts().shape[0] / S['shopper_id'].value_counts().shape[0] *100\r\n",
    "crr17"
   ],
   "outputs": [
    {
     "output_type": "execute_result",
     "data": {
      "text/plain": [
       "6.8181818181818175"
      ]
     },
     "metadata": {},
     "execution_count": 26
    }
   ],
   "metadata": {}
  },
  {
   "cell_type": "markdown",
   "source": [
    "## From the dataset, the retention rate for the customer cohort (2014-05) overtime is = 42.4% in 2015, 24.2% in 2016 and 6.8% in 2017 respectively."
   ],
   "metadata": {}
  },
  {
   "cell_type": "markdown",
   "source": [
    "## Task 3"
   ],
   "metadata": {}
  },
  {
   "cell_type": "markdown",
   "source": [
    "Calculate the frequency of purchase over time for a given customer cohort."
   ],
   "metadata": {}
  },
  {
   "cell_type": "code",
   "execution_count": 27,
   "source": [
    "fq14=(cg['order_submit_date'].dt.to_period('Y') == pd.to_datetime('2014').to_period('Y'))\r\n",
    "norders14=cg.loc[fq14]\r\n",
    "norders14"
   ],
   "outputs": [
    {
     "output_type": "execute_result",
     "data": {
      "text/plain": [
       "       shopper_id first_purchase_date order_submit_date  order_total\n",
       "0            1619          2014-05-10        2014-05-10       107.00\n",
       "1            1619          2014-05-10        2014-05-21        34.00\n",
       "2            1619          2014-05-10        2014-09-04       137.60\n",
       "3            1619          2014-05-10        2014-09-24       162.00\n",
       "4            1619          2014-05-10        2014-11-08       281.00\n",
       "...           ...                 ...               ...          ...\n",
       "14390       97592          2014-05-31        2014-05-31        34.00\n",
       "14433       97610          2014-05-31        2014-05-31        48.00\n",
       "14434       97610          2014-05-31        2014-06-14        37.95\n",
       "14435       97610          2014-05-31        2014-12-15        24.00\n",
       "14436       97610          2014-05-31        2014-12-17        34.00\n",
       "\n",
       "[341 rows x 4 columns]"
      ],
      "text/html": [
       "<div>\n",
       "<style scoped>\n",
       "    .dataframe tbody tr th:only-of-type {\n",
       "        vertical-align: middle;\n",
       "    }\n",
       "\n",
       "    .dataframe tbody tr th {\n",
       "        vertical-align: top;\n",
       "    }\n",
       "\n",
       "    .dataframe thead th {\n",
       "        text-align: right;\n",
       "    }\n",
       "</style>\n",
       "<table border=\"1\" class=\"dataframe\">\n",
       "  <thead>\n",
       "    <tr style=\"text-align: right;\">\n",
       "      <th></th>\n",
       "      <th>shopper_id</th>\n",
       "      <th>first_purchase_date</th>\n",
       "      <th>order_submit_date</th>\n",
       "      <th>order_total</th>\n",
       "    </tr>\n",
       "  </thead>\n",
       "  <tbody>\n",
       "    <tr>\n",
       "      <td>0</td>\n",
       "      <td>1619</td>\n",
       "      <td>2014-05-10</td>\n",
       "      <td>2014-05-10</td>\n",
       "      <td>107.00</td>\n",
       "    </tr>\n",
       "    <tr>\n",
       "      <td>1</td>\n",
       "      <td>1619</td>\n",
       "      <td>2014-05-10</td>\n",
       "      <td>2014-05-21</td>\n",
       "      <td>34.00</td>\n",
       "    </tr>\n",
       "    <tr>\n",
       "      <td>2</td>\n",
       "      <td>1619</td>\n",
       "      <td>2014-05-10</td>\n",
       "      <td>2014-09-04</td>\n",
       "      <td>137.60</td>\n",
       "    </tr>\n",
       "    <tr>\n",
       "      <td>3</td>\n",
       "      <td>1619</td>\n",
       "      <td>2014-05-10</td>\n",
       "      <td>2014-09-24</td>\n",
       "      <td>162.00</td>\n",
       "    </tr>\n",
       "    <tr>\n",
       "      <td>4</td>\n",
       "      <td>1619</td>\n",
       "      <td>2014-05-10</td>\n",
       "      <td>2014-11-08</td>\n",
       "      <td>281.00</td>\n",
       "    </tr>\n",
       "    <tr>\n",
       "      <td>...</td>\n",
       "      <td>...</td>\n",
       "      <td>...</td>\n",
       "      <td>...</td>\n",
       "      <td>...</td>\n",
       "    </tr>\n",
       "    <tr>\n",
       "      <td>14390</td>\n",
       "      <td>97592</td>\n",
       "      <td>2014-05-31</td>\n",
       "      <td>2014-05-31</td>\n",
       "      <td>34.00</td>\n",
       "    </tr>\n",
       "    <tr>\n",
       "      <td>14433</td>\n",
       "      <td>97610</td>\n",
       "      <td>2014-05-31</td>\n",
       "      <td>2014-05-31</td>\n",
       "      <td>48.00</td>\n",
       "    </tr>\n",
       "    <tr>\n",
       "      <td>14434</td>\n",
       "      <td>97610</td>\n",
       "      <td>2014-05-31</td>\n",
       "      <td>2014-06-14</td>\n",
       "      <td>37.95</td>\n",
       "    </tr>\n",
       "    <tr>\n",
       "      <td>14435</td>\n",
       "      <td>97610</td>\n",
       "      <td>2014-05-31</td>\n",
       "      <td>2014-12-15</td>\n",
       "      <td>24.00</td>\n",
       "    </tr>\n",
       "    <tr>\n",
       "      <td>14436</td>\n",
       "      <td>97610</td>\n",
       "      <td>2014-05-31</td>\n",
       "      <td>2014-12-17</td>\n",
       "      <td>34.00</td>\n",
       "    </tr>\n",
       "  </tbody>\n",
       "</table>\n",
       "<p>341 rows × 4 columns</p>\n",
       "</div>"
      ]
     },
     "metadata": {},
     "execution_count": 27
    }
   ],
   "metadata": {}
  },
  {
   "cell_type": "code",
   "execution_count": 28,
   "source": [
    "norders14['shopper_id'].value_counts().shape[0]"
   ],
   "outputs": [
    {
     "output_type": "execute_result",
     "data": {
      "text/plain": [
       "132"
      ]
     },
     "metadata": {},
     "execution_count": 28
    }
   ],
   "metadata": {}
  },
  {
   "cell_type": "code",
   "execution_count": 29,
   "source": [
    "norders14.shape[0]"
   ],
   "outputs": [
    {
     "output_type": "execute_result",
     "data": {
      "text/plain": [
       "341"
      ]
     },
     "metadata": {},
     "execution_count": 29
    }
   ],
   "metadata": {}
  },
  {
   "cell_type": "code",
   "execution_count": 30,
   "source": [
    "fqp14 = norders14.shape[0] / norders14['shopper_id'].value_counts().shape[0]\r\n",
    "fqp14"
   ],
   "outputs": [
    {
     "output_type": "execute_result",
     "data": {
      "text/plain": [
       "2.5833333333333335"
      ]
     },
     "metadata": {},
     "execution_count": 30
    }
   ],
   "metadata": {}
  },
  {
   "cell_type": "code",
   "execution_count": 31,
   "source": [
    "fq15=(cg['order_submit_date'].dt.to_period('Y') == pd.to_datetime('2015').to_period('Y'))\r\n",
    "norders15=cg.loc[fq15]\r\n",
    "norders15"
   ],
   "outputs": [
    {
     "output_type": "execute_result",
     "data": {
      "text/plain": [
       "       shopper_id first_purchase_date order_submit_date  order_total\n",
       "6            1619          2014-05-10        2015-03-15       293.00\n",
       "7            1619          2014-05-10        2015-05-16       142.94\n",
       "20           1621          2014-05-23        2015-10-17        22.00\n",
       "21           1621          2014-05-23        2015-11-28        66.50\n",
       "22           1621          2014-05-23        2015-12-02       107.00\n",
       "...           ...                 ...               ...          ...\n",
       "14054       96887          2014-05-30        2015-02-01        54.92\n",
       "14194       97452          2014-05-30        2015-02-22        90.00\n",
       "14241       97499          2014-05-31        2015-08-01        84.00\n",
       "14437       97610          2014-05-31        2015-02-24        88.00\n",
       "14438       97610          2014-05-31        2015-07-04        39.99\n",
       "\n",
       "[215 rows x 4 columns]"
      ],
      "text/html": [
       "<div>\n",
       "<style scoped>\n",
       "    .dataframe tbody tr th:only-of-type {\n",
       "        vertical-align: middle;\n",
       "    }\n",
       "\n",
       "    .dataframe tbody tr th {\n",
       "        vertical-align: top;\n",
       "    }\n",
       "\n",
       "    .dataframe thead th {\n",
       "        text-align: right;\n",
       "    }\n",
       "</style>\n",
       "<table border=\"1\" class=\"dataframe\">\n",
       "  <thead>\n",
       "    <tr style=\"text-align: right;\">\n",
       "      <th></th>\n",
       "      <th>shopper_id</th>\n",
       "      <th>first_purchase_date</th>\n",
       "      <th>order_submit_date</th>\n",
       "      <th>order_total</th>\n",
       "    </tr>\n",
       "  </thead>\n",
       "  <tbody>\n",
       "    <tr>\n",
       "      <td>6</td>\n",
       "      <td>1619</td>\n",
       "      <td>2014-05-10</td>\n",
       "      <td>2015-03-15</td>\n",
       "      <td>293.00</td>\n",
       "    </tr>\n",
       "    <tr>\n",
       "      <td>7</td>\n",
       "      <td>1619</td>\n",
       "      <td>2014-05-10</td>\n",
       "      <td>2015-05-16</td>\n",
       "      <td>142.94</td>\n",
       "    </tr>\n",
       "    <tr>\n",
       "      <td>20</td>\n",
       "      <td>1621</td>\n",
       "      <td>2014-05-23</td>\n",
       "      <td>2015-10-17</td>\n",
       "      <td>22.00</td>\n",
       "    </tr>\n",
       "    <tr>\n",
       "      <td>21</td>\n",
       "      <td>1621</td>\n",
       "      <td>2014-05-23</td>\n",
       "      <td>2015-11-28</td>\n",
       "      <td>66.50</td>\n",
       "    </tr>\n",
       "    <tr>\n",
       "      <td>22</td>\n",
       "      <td>1621</td>\n",
       "      <td>2014-05-23</td>\n",
       "      <td>2015-12-02</td>\n",
       "      <td>107.00</td>\n",
       "    </tr>\n",
       "    <tr>\n",
       "      <td>...</td>\n",
       "      <td>...</td>\n",
       "      <td>...</td>\n",
       "      <td>...</td>\n",
       "      <td>...</td>\n",
       "    </tr>\n",
       "    <tr>\n",
       "      <td>14054</td>\n",
       "      <td>96887</td>\n",
       "      <td>2014-05-30</td>\n",
       "      <td>2015-02-01</td>\n",
       "      <td>54.92</td>\n",
       "    </tr>\n",
       "    <tr>\n",
       "      <td>14194</td>\n",
       "      <td>97452</td>\n",
       "      <td>2014-05-30</td>\n",
       "      <td>2015-02-22</td>\n",
       "      <td>90.00</td>\n",
       "    </tr>\n",
       "    <tr>\n",
       "      <td>14241</td>\n",
       "      <td>97499</td>\n",
       "      <td>2014-05-31</td>\n",
       "      <td>2015-08-01</td>\n",
       "      <td>84.00</td>\n",
       "    </tr>\n",
       "    <tr>\n",
       "      <td>14437</td>\n",
       "      <td>97610</td>\n",
       "      <td>2014-05-31</td>\n",
       "      <td>2015-02-24</td>\n",
       "      <td>88.00</td>\n",
       "    </tr>\n",
       "    <tr>\n",
       "      <td>14438</td>\n",
       "      <td>97610</td>\n",
       "      <td>2014-05-31</td>\n",
       "      <td>2015-07-04</td>\n",
       "      <td>39.99</td>\n",
       "    </tr>\n",
       "  </tbody>\n",
       "</table>\n",
       "<p>215 rows × 4 columns</p>\n",
       "</div>"
      ]
     },
     "metadata": {},
     "execution_count": 31
    }
   ],
   "metadata": {}
  },
  {
   "cell_type": "code",
   "execution_count": 32,
   "source": [
    "fqp15 = norders15.shape[0] / norders15['shopper_id'].value_counts().shape[0]\r\n",
    "fqp15"
   ],
   "outputs": [
    {
     "output_type": "execute_result",
     "data": {
      "text/plain": [
       "3.8392857142857144"
      ]
     },
     "metadata": {},
     "execution_count": 32
    }
   ],
   "metadata": {}
  },
  {
   "cell_type": "code",
   "execution_count": 33,
   "source": [
    "norders15['shopper_id'].value_counts().shape[0]"
   ],
   "outputs": [
    {
     "output_type": "execute_result",
     "data": {
      "text/plain": [
       "56"
      ]
     },
     "metadata": {},
     "execution_count": 33
    }
   ],
   "metadata": {}
  },
  {
   "cell_type": "code",
   "execution_count": 34,
   "source": [
    "fq16=(cg['order_submit_date'].dt.to_period('Y') == pd.to_datetime('2016').to_period('Y'))\r\n",
    "norders16=cg.loc[fq16]\r\n",
    "norders16"
   ],
   "outputs": [
    {
     "output_type": "execute_result",
     "data": {
      "text/plain": [
       "       shopper_id first_purchase_date order_submit_date  order_total\n",
       "8            1619          2014-05-10        2016-07-16       433.99\n",
       "9            1619          2014-05-10        2016-11-28       352.00\n",
       "23           1621          2014-05-23        2016-01-01       132.00\n",
       "24           1621          2014-05-23        2016-02-13       108.00\n",
       "25           1621          2014-05-23        2016-04-08       127.00\n",
       "...           ...                 ...               ...          ...\n",
       "13751       96221          2014-05-09        2016-12-01        18.00\n",
       "13822       96276          2014-05-04        2016-08-15        68.00\n",
       "13855       96317          2014-05-15        2016-06-30        60.00\n",
       "14055       96887          2014-05-30        2016-10-08        36.00\n",
       "14439       97610          2014-05-31        2016-09-16        24.00\n",
       "\n",
       "[143 rows x 4 columns]"
      ],
      "text/html": [
       "<div>\n",
       "<style scoped>\n",
       "    .dataframe tbody tr th:only-of-type {\n",
       "        vertical-align: middle;\n",
       "    }\n",
       "\n",
       "    .dataframe tbody tr th {\n",
       "        vertical-align: top;\n",
       "    }\n",
       "\n",
       "    .dataframe thead th {\n",
       "        text-align: right;\n",
       "    }\n",
       "</style>\n",
       "<table border=\"1\" class=\"dataframe\">\n",
       "  <thead>\n",
       "    <tr style=\"text-align: right;\">\n",
       "      <th></th>\n",
       "      <th>shopper_id</th>\n",
       "      <th>first_purchase_date</th>\n",
       "      <th>order_submit_date</th>\n",
       "      <th>order_total</th>\n",
       "    </tr>\n",
       "  </thead>\n",
       "  <tbody>\n",
       "    <tr>\n",
       "      <td>8</td>\n",
       "      <td>1619</td>\n",
       "      <td>2014-05-10</td>\n",
       "      <td>2016-07-16</td>\n",
       "      <td>433.99</td>\n",
       "    </tr>\n",
       "    <tr>\n",
       "      <td>9</td>\n",
       "      <td>1619</td>\n",
       "      <td>2014-05-10</td>\n",
       "      <td>2016-11-28</td>\n",
       "      <td>352.00</td>\n",
       "    </tr>\n",
       "    <tr>\n",
       "      <td>23</td>\n",
       "      <td>1621</td>\n",
       "      <td>2014-05-23</td>\n",
       "      <td>2016-01-01</td>\n",
       "      <td>132.00</td>\n",
       "    </tr>\n",
       "    <tr>\n",
       "      <td>24</td>\n",
       "      <td>1621</td>\n",
       "      <td>2014-05-23</td>\n",
       "      <td>2016-02-13</td>\n",
       "      <td>108.00</td>\n",
       "    </tr>\n",
       "    <tr>\n",
       "      <td>25</td>\n",
       "      <td>1621</td>\n",
       "      <td>2014-05-23</td>\n",
       "      <td>2016-04-08</td>\n",
       "      <td>127.00</td>\n",
       "    </tr>\n",
       "    <tr>\n",
       "      <td>...</td>\n",
       "      <td>...</td>\n",
       "      <td>...</td>\n",
       "      <td>...</td>\n",
       "      <td>...</td>\n",
       "    </tr>\n",
       "    <tr>\n",
       "      <td>13751</td>\n",
       "      <td>96221</td>\n",
       "      <td>2014-05-09</td>\n",
       "      <td>2016-12-01</td>\n",
       "      <td>18.00</td>\n",
       "    </tr>\n",
       "    <tr>\n",
       "      <td>13822</td>\n",
       "      <td>96276</td>\n",
       "      <td>2014-05-04</td>\n",
       "      <td>2016-08-15</td>\n",
       "      <td>68.00</td>\n",
       "    </tr>\n",
       "    <tr>\n",
       "      <td>13855</td>\n",
       "      <td>96317</td>\n",
       "      <td>2014-05-15</td>\n",
       "      <td>2016-06-30</td>\n",
       "      <td>60.00</td>\n",
       "    </tr>\n",
       "    <tr>\n",
       "      <td>14055</td>\n",
       "      <td>96887</td>\n",
       "      <td>2014-05-30</td>\n",
       "      <td>2016-10-08</td>\n",
       "      <td>36.00</td>\n",
       "    </tr>\n",
       "    <tr>\n",
       "      <td>14439</td>\n",
       "      <td>97610</td>\n",
       "      <td>2014-05-31</td>\n",
       "      <td>2016-09-16</td>\n",
       "      <td>24.00</td>\n",
       "    </tr>\n",
       "  </tbody>\n",
       "</table>\n",
       "<p>143 rows × 4 columns</p>\n",
       "</div>"
      ]
     },
     "metadata": {},
     "execution_count": 34
    }
   ],
   "metadata": {}
  },
  {
   "cell_type": "code",
   "execution_count": 35,
   "source": [
    "fqp16 = norders16.shape[0] / norders16['shopper_id'].value_counts().shape[0]\r\n",
    "fqp16"
   ],
   "outputs": [
    {
     "output_type": "execute_result",
     "data": {
      "text/plain": [
       "4.46875"
      ]
     },
     "metadata": {},
     "execution_count": 35
    }
   ],
   "metadata": {}
  },
  {
   "cell_type": "code",
   "execution_count": 36,
   "source": [
    "norders16['shopper_id'].value_counts().shape[0]"
   ],
   "outputs": [
    {
     "output_type": "execute_result",
     "data": {
      "text/plain": [
       "32"
      ]
     },
     "metadata": {},
     "execution_count": 36
    }
   ],
   "metadata": {}
  },
  {
   "cell_type": "code",
   "execution_count": 37,
   "source": [
    "fq17=(cg['order_submit_date'].dt.to_period('Y') == pd.to_datetime('2017').to_period('Y'))\r\n",
    "norders17=cg.loc[fq17]\r\n",
    "norders17"
   ],
   "outputs": [
    {
     "output_type": "execute_result",
     "data": {
      "text/plain": [
       "       shopper_id first_purchase_date order_submit_date  order_total\n",
       "30           1621          2014-05-23        2017-01-03         68.0\n",
       "150          1648          2014-05-15        2017-01-01         34.5\n",
       "151          1648          2014-05-15        2017-01-21         17.5\n",
       "657          1731          2014-05-13        2017-01-06        138.0\n",
       "658          1731          2014-05-13        2017-02-03         48.0\n",
       "1030         1798          2014-05-19        2017-02-02        129.0\n",
       "1110         1867          2014-05-19        2017-01-19         82.5\n",
       "1275         1964          2014-05-30        2017-01-09         61.0\n",
       "1383         1973          2014-05-31        2017-01-03        602.0\n",
       "13172       95902          2014-05-14        2017-01-09         49.0\n",
       "14440       97610          2014-05-31        2017-01-12        102.0"
      ],
      "text/html": [
       "<div>\n",
       "<style scoped>\n",
       "    .dataframe tbody tr th:only-of-type {\n",
       "        vertical-align: middle;\n",
       "    }\n",
       "\n",
       "    .dataframe tbody tr th {\n",
       "        vertical-align: top;\n",
       "    }\n",
       "\n",
       "    .dataframe thead th {\n",
       "        text-align: right;\n",
       "    }\n",
       "</style>\n",
       "<table border=\"1\" class=\"dataframe\">\n",
       "  <thead>\n",
       "    <tr style=\"text-align: right;\">\n",
       "      <th></th>\n",
       "      <th>shopper_id</th>\n",
       "      <th>first_purchase_date</th>\n",
       "      <th>order_submit_date</th>\n",
       "      <th>order_total</th>\n",
       "    </tr>\n",
       "  </thead>\n",
       "  <tbody>\n",
       "    <tr>\n",
       "      <td>30</td>\n",
       "      <td>1621</td>\n",
       "      <td>2014-05-23</td>\n",
       "      <td>2017-01-03</td>\n",
       "      <td>68.0</td>\n",
       "    </tr>\n",
       "    <tr>\n",
       "      <td>150</td>\n",
       "      <td>1648</td>\n",
       "      <td>2014-05-15</td>\n",
       "      <td>2017-01-01</td>\n",
       "      <td>34.5</td>\n",
       "    </tr>\n",
       "    <tr>\n",
       "      <td>151</td>\n",
       "      <td>1648</td>\n",
       "      <td>2014-05-15</td>\n",
       "      <td>2017-01-21</td>\n",
       "      <td>17.5</td>\n",
       "    </tr>\n",
       "    <tr>\n",
       "      <td>657</td>\n",
       "      <td>1731</td>\n",
       "      <td>2014-05-13</td>\n",
       "      <td>2017-01-06</td>\n",
       "      <td>138.0</td>\n",
       "    </tr>\n",
       "    <tr>\n",
       "      <td>658</td>\n",
       "      <td>1731</td>\n",
       "      <td>2014-05-13</td>\n",
       "      <td>2017-02-03</td>\n",
       "      <td>48.0</td>\n",
       "    </tr>\n",
       "    <tr>\n",
       "      <td>1030</td>\n",
       "      <td>1798</td>\n",
       "      <td>2014-05-19</td>\n",
       "      <td>2017-02-02</td>\n",
       "      <td>129.0</td>\n",
       "    </tr>\n",
       "    <tr>\n",
       "      <td>1110</td>\n",
       "      <td>1867</td>\n",
       "      <td>2014-05-19</td>\n",
       "      <td>2017-01-19</td>\n",
       "      <td>82.5</td>\n",
       "    </tr>\n",
       "    <tr>\n",
       "      <td>1275</td>\n",
       "      <td>1964</td>\n",
       "      <td>2014-05-30</td>\n",
       "      <td>2017-01-09</td>\n",
       "      <td>61.0</td>\n",
       "    </tr>\n",
       "    <tr>\n",
       "      <td>1383</td>\n",
       "      <td>1973</td>\n",
       "      <td>2014-05-31</td>\n",
       "      <td>2017-01-03</td>\n",
       "      <td>602.0</td>\n",
       "    </tr>\n",
       "    <tr>\n",
       "      <td>13172</td>\n",
       "      <td>95902</td>\n",
       "      <td>2014-05-14</td>\n",
       "      <td>2017-01-09</td>\n",
       "      <td>49.0</td>\n",
       "    </tr>\n",
       "    <tr>\n",
       "      <td>14440</td>\n",
       "      <td>97610</td>\n",
       "      <td>2014-05-31</td>\n",
       "      <td>2017-01-12</td>\n",
       "      <td>102.0</td>\n",
       "    </tr>\n",
       "  </tbody>\n",
       "</table>\n",
       "</div>"
      ]
     },
     "metadata": {},
     "execution_count": 37
    }
   ],
   "metadata": {}
  },
  {
   "cell_type": "code",
   "execution_count": 38,
   "source": [
    "fqp17 = norders17.shape[0] / norders17['shopper_id'].value_counts().shape[0]\r\n",
    "fqp17"
   ],
   "outputs": [
    {
     "output_type": "execute_result",
     "data": {
      "text/plain": [
       "1.2222222222222223"
      ]
     },
     "metadata": {},
     "execution_count": 38
    }
   ],
   "metadata": {}
  },
  {
   "cell_type": "code",
   "execution_count": 39,
   "source": [
    "norders17['shopper_id'].value_counts().shape[0]"
   ],
   "outputs": [
    {
     "output_type": "execute_result",
     "data": {
      "text/plain": [
       "9"
      ]
     },
     "metadata": {},
     "execution_count": 39
    }
   ],
   "metadata": {}
  },
  {
   "cell_type": "code",
   "execution_count": 40,
   "source": [
    "norders17.shape[0]"
   ],
   "outputs": [
    {
     "output_type": "execute_result",
     "data": {
      "text/plain": [
       "11"
      ]
     },
     "metadata": {},
     "execution_count": 40
    }
   ],
   "metadata": {}
  },
  {
   "cell_type": "markdown",
   "source": [
    "## The frequency of purchase for a given customer cohort (2014-05) are 2.58 in 2014, 3.83 in 2015, 4.46 in 2016 and 1.22 in 2017 respectively."
   ],
   "metadata": {}
  },
  {
   "cell_type": "markdown",
   "source": [
    "## Task 4"
   ],
   "metadata": {}
  },
  {
   "cell_type": "markdown",
   "source": [
    "Calculate the rate of churn for a customer cohort."
   ],
   "metadata": {}
  },
  {
   "cell_type": "code",
   "execution_count": 41,
   "source": [
    "totalc14=(cg['order_submit_date'].dt.to_period('Y') == pd.to_datetime('2014').to_period('Y'))\r\n",
    "nocust14=cg.loc[totalc14]\r\n",
    "nocust14"
   ],
   "outputs": [
    {
     "output_type": "execute_result",
     "data": {
      "text/plain": [
       "       shopper_id first_purchase_date order_submit_date  order_total\n",
       "0            1619          2014-05-10        2014-05-10       107.00\n",
       "1            1619          2014-05-10        2014-05-21        34.00\n",
       "2            1619          2014-05-10        2014-09-04       137.60\n",
       "3            1619          2014-05-10        2014-09-24       162.00\n",
       "4            1619          2014-05-10        2014-11-08       281.00\n",
       "...           ...                 ...               ...          ...\n",
       "14390       97592          2014-05-31        2014-05-31        34.00\n",
       "14433       97610          2014-05-31        2014-05-31        48.00\n",
       "14434       97610          2014-05-31        2014-06-14        37.95\n",
       "14435       97610          2014-05-31        2014-12-15        24.00\n",
       "14436       97610          2014-05-31        2014-12-17        34.00\n",
       "\n",
       "[341 rows x 4 columns]"
      ],
      "text/html": [
       "<div>\n",
       "<style scoped>\n",
       "    .dataframe tbody tr th:only-of-type {\n",
       "        vertical-align: middle;\n",
       "    }\n",
       "\n",
       "    .dataframe tbody tr th {\n",
       "        vertical-align: top;\n",
       "    }\n",
       "\n",
       "    .dataframe thead th {\n",
       "        text-align: right;\n",
       "    }\n",
       "</style>\n",
       "<table border=\"1\" class=\"dataframe\">\n",
       "  <thead>\n",
       "    <tr style=\"text-align: right;\">\n",
       "      <th></th>\n",
       "      <th>shopper_id</th>\n",
       "      <th>first_purchase_date</th>\n",
       "      <th>order_submit_date</th>\n",
       "      <th>order_total</th>\n",
       "    </tr>\n",
       "  </thead>\n",
       "  <tbody>\n",
       "    <tr>\n",
       "      <td>0</td>\n",
       "      <td>1619</td>\n",
       "      <td>2014-05-10</td>\n",
       "      <td>2014-05-10</td>\n",
       "      <td>107.00</td>\n",
       "    </tr>\n",
       "    <tr>\n",
       "      <td>1</td>\n",
       "      <td>1619</td>\n",
       "      <td>2014-05-10</td>\n",
       "      <td>2014-05-21</td>\n",
       "      <td>34.00</td>\n",
       "    </tr>\n",
       "    <tr>\n",
       "      <td>2</td>\n",
       "      <td>1619</td>\n",
       "      <td>2014-05-10</td>\n",
       "      <td>2014-09-04</td>\n",
       "      <td>137.60</td>\n",
       "    </tr>\n",
       "    <tr>\n",
       "      <td>3</td>\n",
       "      <td>1619</td>\n",
       "      <td>2014-05-10</td>\n",
       "      <td>2014-09-24</td>\n",
       "      <td>162.00</td>\n",
       "    </tr>\n",
       "    <tr>\n",
       "      <td>4</td>\n",
       "      <td>1619</td>\n",
       "      <td>2014-05-10</td>\n",
       "      <td>2014-11-08</td>\n",
       "      <td>281.00</td>\n",
       "    </tr>\n",
       "    <tr>\n",
       "      <td>...</td>\n",
       "      <td>...</td>\n",
       "      <td>...</td>\n",
       "      <td>...</td>\n",
       "      <td>...</td>\n",
       "    </tr>\n",
       "    <tr>\n",
       "      <td>14390</td>\n",
       "      <td>97592</td>\n",
       "      <td>2014-05-31</td>\n",
       "      <td>2014-05-31</td>\n",
       "      <td>34.00</td>\n",
       "    </tr>\n",
       "    <tr>\n",
       "      <td>14433</td>\n",
       "      <td>97610</td>\n",
       "      <td>2014-05-31</td>\n",
       "      <td>2014-05-31</td>\n",
       "      <td>48.00</td>\n",
       "    </tr>\n",
       "    <tr>\n",
       "      <td>14434</td>\n",
       "      <td>97610</td>\n",
       "      <td>2014-05-31</td>\n",
       "      <td>2014-06-14</td>\n",
       "      <td>37.95</td>\n",
       "    </tr>\n",
       "    <tr>\n",
       "      <td>14435</td>\n",
       "      <td>97610</td>\n",
       "      <td>2014-05-31</td>\n",
       "      <td>2014-12-15</td>\n",
       "      <td>24.00</td>\n",
       "    </tr>\n",
       "    <tr>\n",
       "      <td>14436</td>\n",
       "      <td>97610</td>\n",
       "      <td>2014-05-31</td>\n",
       "      <td>2014-12-17</td>\n",
       "      <td>34.00</td>\n",
       "    </tr>\n",
       "  </tbody>\n",
       "</table>\n",
       "<p>341 rows × 4 columns</p>\n",
       "</div>"
      ]
     },
     "metadata": {},
     "execution_count": 41
    }
   ],
   "metadata": {}
  },
  {
   "cell_type": "code",
   "execution_count": 42,
   "source": [
    "T = nocust14['shopper_id'].value_counts().shape[0]\r\n",
    "T"
   ],
   "outputs": [
    {
     "output_type": "execute_result",
     "data": {
      "text/plain": [
       "132"
      ]
     },
     "metadata": {},
     "execution_count": 42
    }
   ],
   "metadata": {}
  },
  {
   "cell_type": "code",
   "execution_count": 43,
   "source": [
    "totalc15=(cg['order_submit_date'].dt.to_period('Y') == pd.to_datetime('2015').to_period('Y'))\r\n",
    "nocust15=cg.loc[totalc15]\r\n",
    "nocust15"
   ],
   "outputs": [
    {
     "output_type": "execute_result",
     "data": {
      "text/plain": [
       "       shopper_id first_purchase_date order_submit_date  order_total\n",
       "6            1619          2014-05-10        2015-03-15       293.00\n",
       "7            1619          2014-05-10        2015-05-16       142.94\n",
       "20           1621          2014-05-23        2015-10-17        22.00\n",
       "21           1621          2014-05-23        2015-11-28        66.50\n",
       "22           1621          2014-05-23        2015-12-02       107.00\n",
       "...           ...                 ...               ...          ...\n",
       "14054       96887          2014-05-30        2015-02-01        54.92\n",
       "14194       97452          2014-05-30        2015-02-22        90.00\n",
       "14241       97499          2014-05-31        2015-08-01        84.00\n",
       "14437       97610          2014-05-31        2015-02-24        88.00\n",
       "14438       97610          2014-05-31        2015-07-04        39.99\n",
       "\n",
       "[215 rows x 4 columns]"
      ],
      "text/html": [
       "<div>\n",
       "<style scoped>\n",
       "    .dataframe tbody tr th:only-of-type {\n",
       "        vertical-align: middle;\n",
       "    }\n",
       "\n",
       "    .dataframe tbody tr th {\n",
       "        vertical-align: top;\n",
       "    }\n",
       "\n",
       "    .dataframe thead th {\n",
       "        text-align: right;\n",
       "    }\n",
       "</style>\n",
       "<table border=\"1\" class=\"dataframe\">\n",
       "  <thead>\n",
       "    <tr style=\"text-align: right;\">\n",
       "      <th></th>\n",
       "      <th>shopper_id</th>\n",
       "      <th>first_purchase_date</th>\n",
       "      <th>order_submit_date</th>\n",
       "      <th>order_total</th>\n",
       "    </tr>\n",
       "  </thead>\n",
       "  <tbody>\n",
       "    <tr>\n",
       "      <td>6</td>\n",
       "      <td>1619</td>\n",
       "      <td>2014-05-10</td>\n",
       "      <td>2015-03-15</td>\n",
       "      <td>293.00</td>\n",
       "    </tr>\n",
       "    <tr>\n",
       "      <td>7</td>\n",
       "      <td>1619</td>\n",
       "      <td>2014-05-10</td>\n",
       "      <td>2015-05-16</td>\n",
       "      <td>142.94</td>\n",
       "    </tr>\n",
       "    <tr>\n",
       "      <td>20</td>\n",
       "      <td>1621</td>\n",
       "      <td>2014-05-23</td>\n",
       "      <td>2015-10-17</td>\n",
       "      <td>22.00</td>\n",
       "    </tr>\n",
       "    <tr>\n",
       "      <td>21</td>\n",
       "      <td>1621</td>\n",
       "      <td>2014-05-23</td>\n",
       "      <td>2015-11-28</td>\n",
       "      <td>66.50</td>\n",
       "    </tr>\n",
       "    <tr>\n",
       "      <td>22</td>\n",
       "      <td>1621</td>\n",
       "      <td>2014-05-23</td>\n",
       "      <td>2015-12-02</td>\n",
       "      <td>107.00</td>\n",
       "    </tr>\n",
       "    <tr>\n",
       "      <td>...</td>\n",
       "      <td>...</td>\n",
       "      <td>...</td>\n",
       "      <td>...</td>\n",
       "      <td>...</td>\n",
       "    </tr>\n",
       "    <tr>\n",
       "      <td>14054</td>\n",
       "      <td>96887</td>\n",
       "      <td>2014-05-30</td>\n",
       "      <td>2015-02-01</td>\n",
       "      <td>54.92</td>\n",
       "    </tr>\n",
       "    <tr>\n",
       "      <td>14194</td>\n",
       "      <td>97452</td>\n",
       "      <td>2014-05-30</td>\n",
       "      <td>2015-02-22</td>\n",
       "      <td>90.00</td>\n",
       "    </tr>\n",
       "    <tr>\n",
       "      <td>14241</td>\n",
       "      <td>97499</td>\n",
       "      <td>2014-05-31</td>\n",
       "      <td>2015-08-01</td>\n",
       "      <td>84.00</td>\n",
       "    </tr>\n",
       "    <tr>\n",
       "      <td>14437</td>\n",
       "      <td>97610</td>\n",
       "      <td>2014-05-31</td>\n",
       "      <td>2015-02-24</td>\n",
       "      <td>88.00</td>\n",
       "    </tr>\n",
       "    <tr>\n",
       "      <td>14438</td>\n",
       "      <td>97610</td>\n",
       "      <td>2014-05-31</td>\n",
       "      <td>2015-07-04</td>\n",
       "      <td>39.99</td>\n",
       "    </tr>\n",
       "  </tbody>\n",
       "</table>\n",
       "<p>215 rows × 4 columns</p>\n",
       "</div>"
      ]
     },
     "metadata": {},
     "execution_count": 43
    }
   ],
   "metadata": {}
  },
  {
   "cell_type": "code",
   "execution_count": 44,
   "source": [
    "nocust15['shopper_id'].value_counts().shape[0]"
   ],
   "outputs": [
    {
     "output_type": "execute_result",
     "data": {
      "text/plain": [
       "56"
      ]
     },
     "metadata": {},
     "execution_count": 44
    }
   ],
   "metadata": {}
  },
  {
   "cell_type": "code",
   "execution_count": 45,
   "source": [
    "lostc15 = nocust14['shopper_id'].value_counts().shape[0] - nocust15['shopper_id'].value_counts().shape[0]\r\n",
    "lostc15"
   ],
   "outputs": [
    {
     "output_type": "execute_result",
     "data": {
      "text/plain": [
       "76"
      ]
     },
     "metadata": {},
     "execution_count": 45
    }
   ],
   "metadata": {}
  },
  {
   "cell_type": "code",
   "execution_count": 46,
   "source": [
    "CR15 = lostc15 / T * 100\r\n",
    "CR15"
   ],
   "outputs": [
    {
     "output_type": "execute_result",
     "data": {
      "text/plain": [
       "57.57575757575758"
      ]
     },
     "metadata": {},
     "execution_count": 46
    }
   ],
   "metadata": {}
  },
  {
   "cell_type": "code",
   "execution_count": 47,
   "source": [
    "totalc16=(cg['order_submit_date'].dt.to_period('Y') == pd.to_datetime('2016').to_period('Y'))\r\n",
    "nocust16=cg.loc[totalc16]\r\n",
    "nocust16"
   ],
   "outputs": [
    {
     "output_type": "execute_result",
     "data": {
      "text/plain": [
       "       shopper_id first_purchase_date order_submit_date  order_total\n",
       "8            1619          2014-05-10        2016-07-16       433.99\n",
       "9            1619          2014-05-10        2016-11-28       352.00\n",
       "23           1621          2014-05-23        2016-01-01       132.00\n",
       "24           1621          2014-05-23        2016-02-13       108.00\n",
       "25           1621          2014-05-23        2016-04-08       127.00\n",
       "...           ...                 ...               ...          ...\n",
       "13751       96221          2014-05-09        2016-12-01        18.00\n",
       "13822       96276          2014-05-04        2016-08-15        68.00\n",
       "13855       96317          2014-05-15        2016-06-30        60.00\n",
       "14055       96887          2014-05-30        2016-10-08        36.00\n",
       "14439       97610          2014-05-31        2016-09-16        24.00\n",
       "\n",
       "[143 rows x 4 columns]"
      ],
      "text/html": [
       "<div>\n",
       "<style scoped>\n",
       "    .dataframe tbody tr th:only-of-type {\n",
       "        vertical-align: middle;\n",
       "    }\n",
       "\n",
       "    .dataframe tbody tr th {\n",
       "        vertical-align: top;\n",
       "    }\n",
       "\n",
       "    .dataframe thead th {\n",
       "        text-align: right;\n",
       "    }\n",
       "</style>\n",
       "<table border=\"1\" class=\"dataframe\">\n",
       "  <thead>\n",
       "    <tr style=\"text-align: right;\">\n",
       "      <th></th>\n",
       "      <th>shopper_id</th>\n",
       "      <th>first_purchase_date</th>\n",
       "      <th>order_submit_date</th>\n",
       "      <th>order_total</th>\n",
       "    </tr>\n",
       "  </thead>\n",
       "  <tbody>\n",
       "    <tr>\n",
       "      <td>8</td>\n",
       "      <td>1619</td>\n",
       "      <td>2014-05-10</td>\n",
       "      <td>2016-07-16</td>\n",
       "      <td>433.99</td>\n",
       "    </tr>\n",
       "    <tr>\n",
       "      <td>9</td>\n",
       "      <td>1619</td>\n",
       "      <td>2014-05-10</td>\n",
       "      <td>2016-11-28</td>\n",
       "      <td>352.00</td>\n",
       "    </tr>\n",
       "    <tr>\n",
       "      <td>23</td>\n",
       "      <td>1621</td>\n",
       "      <td>2014-05-23</td>\n",
       "      <td>2016-01-01</td>\n",
       "      <td>132.00</td>\n",
       "    </tr>\n",
       "    <tr>\n",
       "      <td>24</td>\n",
       "      <td>1621</td>\n",
       "      <td>2014-05-23</td>\n",
       "      <td>2016-02-13</td>\n",
       "      <td>108.00</td>\n",
       "    </tr>\n",
       "    <tr>\n",
       "      <td>25</td>\n",
       "      <td>1621</td>\n",
       "      <td>2014-05-23</td>\n",
       "      <td>2016-04-08</td>\n",
       "      <td>127.00</td>\n",
       "    </tr>\n",
       "    <tr>\n",
       "      <td>...</td>\n",
       "      <td>...</td>\n",
       "      <td>...</td>\n",
       "      <td>...</td>\n",
       "      <td>...</td>\n",
       "    </tr>\n",
       "    <tr>\n",
       "      <td>13751</td>\n",
       "      <td>96221</td>\n",
       "      <td>2014-05-09</td>\n",
       "      <td>2016-12-01</td>\n",
       "      <td>18.00</td>\n",
       "    </tr>\n",
       "    <tr>\n",
       "      <td>13822</td>\n",
       "      <td>96276</td>\n",
       "      <td>2014-05-04</td>\n",
       "      <td>2016-08-15</td>\n",
       "      <td>68.00</td>\n",
       "    </tr>\n",
       "    <tr>\n",
       "      <td>13855</td>\n",
       "      <td>96317</td>\n",
       "      <td>2014-05-15</td>\n",
       "      <td>2016-06-30</td>\n",
       "      <td>60.00</td>\n",
       "    </tr>\n",
       "    <tr>\n",
       "      <td>14055</td>\n",
       "      <td>96887</td>\n",
       "      <td>2014-05-30</td>\n",
       "      <td>2016-10-08</td>\n",
       "      <td>36.00</td>\n",
       "    </tr>\n",
       "    <tr>\n",
       "      <td>14439</td>\n",
       "      <td>97610</td>\n",
       "      <td>2014-05-31</td>\n",
       "      <td>2016-09-16</td>\n",
       "      <td>24.00</td>\n",
       "    </tr>\n",
       "  </tbody>\n",
       "</table>\n",
       "<p>143 rows × 4 columns</p>\n",
       "</div>"
      ]
     },
     "metadata": {},
     "execution_count": 47
    }
   ],
   "metadata": {}
  },
  {
   "cell_type": "code",
   "execution_count": 48,
   "source": [
    "lostc16 = nocust14['shopper_id'].value_counts().shape[0] - nocust16['shopper_id'].value_counts().shape[0]\r\n",
    "lostc16"
   ],
   "outputs": [
    {
     "output_type": "execute_result",
     "data": {
      "text/plain": [
       "100"
      ]
     },
     "metadata": {},
     "execution_count": 48
    }
   ],
   "metadata": {}
  },
  {
   "cell_type": "code",
   "execution_count": 49,
   "source": [
    "CR16 = lostc16 / T * 100\r\n",
    "CR16"
   ],
   "outputs": [
    {
     "output_type": "execute_result",
     "data": {
      "text/plain": [
       "75.75757575757575"
      ]
     },
     "metadata": {},
     "execution_count": 49
    }
   ],
   "metadata": {}
  },
  {
   "cell_type": "code",
   "execution_count": 50,
   "source": [
    "totalc17=(cg['order_submit_date'].dt.to_period('Y') == pd.to_datetime('2017').to_period('Y'))\r\n",
    "nocust17=cg.loc[totalc17]\r\n",
    "nocust17"
   ],
   "outputs": [
    {
     "output_type": "execute_result",
     "data": {
      "text/plain": [
       "       shopper_id first_purchase_date order_submit_date  order_total\n",
       "30           1621          2014-05-23        2017-01-03         68.0\n",
       "150          1648          2014-05-15        2017-01-01         34.5\n",
       "151          1648          2014-05-15        2017-01-21         17.5\n",
       "657          1731          2014-05-13        2017-01-06        138.0\n",
       "658          1731          2014-05-13        2017-02-03         48.0\n",
       "1030         1798          2014-05-19        2017-02-02        129.0\n",
       "1110         1867          2014-05-19        2017-01-19         82.5\n",
       "1275         1964          2014-05-30        2017-01-09         61.0\n",
       "1383         1973          2014-05-31        2017-01-03        602.0\n",
       "13172       95902          2014-05-14        2017-01-09         49.0\n",
       "14440       97610          2014-05-31        2017-01-12        102.0"
      ],
      "text/html": [
       "<div>\n",
       "<style scoped>\n",
       "    .dataframe tbody tr th:only-of-type {\n",
       "        vertical-align: middle;\n",
       "    }\n",
       "\n",
       "    .dataframe tbody tr th {\n",
       "        vertical-align: top;\n",
       "    }\n",
       "\n",
       "    .dataframe thead th {\n",
       "        text-align: right;\n",
       "    }\n",
       "</style>\n",
       "<table border=\"1\" class=\"dataframe\">\n",
       "  <thead>\n",
       "    <tr style=\"text-align: right;\">\n",
       "      <th></th>\n",
       "      <th>shopper_id</th>\n",
       "      <th>first_purchase_date</th>\n",
       "      <th>order_submit_date</th>\n",
       "      <th>order_total</th>\n",
       "    </tr>\n",
       "  </thead>\n",
       "  <tbody>\n",
       "    <tr>\n",
       "      <td>30</td>\n",
       "      <td>1621</td>\n",
       "      <td>2014-05-23</td>\n",
       "      <td>2017-01-03</td>\n",
       "      <td>68.0</td>\n",
       "    </tr>\n",
       "    <tr>\n",
       "      <td>150</td>\n",
       "      <td>1648</td>\n",
       "      <td>2014-05-15</td>\n",
       "      <td>2017-01-01</td>\n",
       "      <td>34.5</td>\n",
       "    </tr>\n",
       "    <tr>\n",
       "      <td>151</td>\n",
       "      <td>1648</td>\n",
       "      <td>2014-05-15</td>\n",
       "      <td>2017-01-21</td>\n",
       "      <td>17.5</td>\n",
       "    </tr>\n",
       "    <tr>\n",
       "      <td>657</td>\n",
       "      <td>1731</td>\n",
       "      <td>2014-05-13</td>\n",
       "      <td>2017-01-06</td>\n",
       "      <td>138.0</td>\n",
       "    </tr>\n",
       "    <tr>\n",
       "      <td>658</td>\n",
       "      <td>1731</td>\n",
       "      <td>2014-05-13</td>\n",
       "      <td>2017-02-03</td>\n",
       "      <td>48.0</td>\n",
       "    </tr>\n",
       "    <tr>\n",
       "      <td>1030</td>\n",
       "      <td>1798</td>\n",
       "      <td>2014-05-19</td>\n",
       "      <td>2017-02-02</td>\n",
       "      <td>129.0</td>\n",
       "    </tr>\n",
       "    <tr>\n",
       "      <td>1110</td>\n",
       "      <td>1867</td>\n",
       "      <td>2014-05-19</td>\n",
       "      <td>2017-01-19</td>\n",
       "      <td>82.5</td>\n",
       "    </tr>\n",
       "    <tr>\n",
       "      <td>1275</td>\n",
       "      <td>1964</td>\n",
       "      <td>2014-05-30</td>\n",
       "      <td>2017-01-09</td>\n",
       "      <td>61.0</td>\n",
       "    </tr>\n",
       "    <tr>\n",
       "      <td>1383</td>\n",
       "      <td>1973</td>\n",
       "      <td>2014-05-31</td>\n",
       "      <td>2017-01-03</td>\n",
       "      <td>602.0</td>\n",
       "    </tr>\n",
       "    <tr>\n",
       "      <td>13172</td>\n",
       "      <td>95902</td>\n",
       "      <td>2014-05-14</td>\n",
       "      <td>2017-01-09</td>\n",
       "      <td>49.0</td>\n",
       "    </tr>\n",
       "    <tr>\n",
       "      <td>14440</td>\n",
       "      <td>97610</td>\n",
       "      <td>2014-05-31</td>\n",
       "      <td>2017-01-12</td>\n",
       "      <td>102.0</td>\n",
       "    </tr>\n",
       "  </tbody>\n",
       "</table>\n",
       "</div>"
      ]
     },
     "metadata": {},
     "execution_count": 50
    }
   ],
   "metadata": {}
  },
  {
   "cell_type": "code",
   "execution_count": 51,
   "source": [
    "lostc17 = nocust14['shopper_id'].value_counts().shape[0] - nocust17['shopper_id'].value_counts().shape[0]\r\n",
    "lostc17"
   ],
   "outputs": [
    {
     "output_type": "execute_result",
     "data": {
      "text/plain": [
       "123"
      ]
     },
     "metadata": {},
     "execution_count": 51
    }
   ],
   "metadata": {}
  },
  {
   "cell_type": "code",
   "execution_count": 52,
   "source": [
    "CR17 = lostc17 / T * 100\r\n",
    "CR17"
   ],
   "outputs": [
    {
     "output_type": "execute_result",
     "data": {
      "text/plain": [
       "93.18181818181817"
      ]
     },
     "metadata": {},
     "execution_count": 52
    }
   ],
   "metadata": {}
  },
  {
   "cell_type": "markdown",
   "source": [
    "## From the dataset provided, the rate of churn (attrition rate) for the customer cohort (2014-05) are 57.6% in 2015, 75.6% in 2016 and 93.2% in 2017 respectively."
   ],
   "metadata": {}
  },
  {
   "cell_type": "markdown",
   "source": [
    "## Task 5"
   ],
   "metadata": {}
  },
  {
   "cell_type": "markdown",
   "source": [
    "Qualitatively, are the customers getting better over time? I.e are the customers who first made a purchase in 2015 better than those who first made purchase in 2014 and so on? Why or why not? "
   ],
   "metadata": {}
  },
  {
   "cell_type": "code",
   "execution_count": 53,
   "source": [
    "Cust14=(purchase['order_submit_date'].dt.to_period('Y') == pd.to_datetime('2014').to_period('Y'))\r\n",
    "CQ14=purchase.loc[Cust14]\r\n",
    "CQ14"
   ],
   "outputs": [
    {
     "output_type": "execute_result",
     "data": {
      "text/plain": [
       "       shopper_id first_purchase_date order_submit_date  order_total\n",
       "0            1619          2014-05-10        2014-05-10        107.0\n",
       "1            1619          2014-05-10        2014-05-21         34.0\n",
       "2            1619          2014-05-10        2014-09-04        137.6\n",
       "3            1619          2014-05-10        2014-09-24        162.0\n",
       "4            1619          2014-05-10        2014-11-08        281.0\n",
       "...           ...                 ...               ...          ...\n",
       "17822      106174          2014-12-29        2014-12-29        108.0\n",
       "17823      106178          2014-12-29        2014-12-29        103.0\n",
       "17825      106180          2014-12-29        2014-12-29         95.0\n",
       "17828      106184          2014-12-29        2014-12-29         29.0\n",
       "17855      106204          2014-12-30        2014-12-30         88.0\n",
       "\n",
       "[3167 rows x 4 columns]"
      ],
      "text/html": [
       "<div>\n",
       "<style scoped>\n",
       "    .dataframe tbody tr th:only-of-type {\n",
       "        vertical-align: middle;\n",
       "    }\n",
       "\n",
       "    .dataframe tbody tr th {\n",
       "        vertical-align: top;\n",
       "    }\n",
       "\n",
       "    .dataframe thead th {\n",
       "        text-align: right;\n",
       "    }\n",
       "</style>\n",
       "<table border=\"1\" class=\"dataframe\">\n",
       "  <thead>\n",
       "    <tr style=\"text-align: right;\">\n",
       "      <th></th>\n",
       "      <th>shopper_id</th>\n",
       "      <th>first_purchase_date</th>\n",
       "      <th>order_submit_date</th>\n",
       "      <th>order_total</th>\n",
       "    </tr>\n",
       "  </thead>\n",
       "  <tbody>\n",
       "    <tr>\n",
       "      <td>0</td>\n",
       "      <td>1619</td>\n",
       "      <td>2014-05-10</td>\n",
       "      <td>2014-05-10</td>\n",
       "      <td>107.0</td>\n",
       "    </tr>\n",
       "    <tr>\n",
       "      <td>1</td>\n",
       "      <td>1619</td>\n",
       "      <td>2014-05-10</td>\n",
       "      <td>2014-05-21</td>\n",
       "      <td>34.0</td>\n",
       "    </tr>\n",
       "    <tr>\n",
       "      <td>2</td>\n",
       "      <td>1619</td>\n",
       "      <td>2014-05-10</td>\n",
       "      <td>2014-09-04</td>\n",
       "      <td>137.6</td>\n",
       "    </tr>\n",
       "    <tr>\n",
       "      <td>3</td>\n",
       "      <td>1619</td>\n",
       "      <td>2014-05-10</td>\n",
       "      <td>2014-09-24</td>\n",
       "      <td>162.0</td>\n",
       "    </tr>\n",
       "    <tr>\n",
       "      <td>4</td>\n",
       "      <td>1619</td>\n",
       "      <td>2014-05-10</td>\n",
       "      <td>2014-11-08</td>\n",
       "      <td>281.0</td>\n",
       "    </tr>\n",
       "    <tr>\n",
       "      <td>...</td>\n",
       "      <td>...</td>\n",
       "      <td>...</td>\n",
       "      <td>...</td>\n",
       "      <td>...</td>\n",
       "    </tr>\n",
       "    <tr>\n",
       "      <td>17822</td>\n",
       "      <td>106174</td>\n",
       "      <td>2014-12-29</td>\n",
       "      <td>2014-12-29</td>\n",
       "      <td>108.0</td>\n",
       "    </tr>\n",
       "    <tr>\n",
       "      <td>17823</td>\n",
       "      <td>106178</td>\n",
       "      <td>2014-12-29</td>\n",
       "      <td>2014-12-29</td>\n",
       "      <td>103.0</td>\n",
       "    </tr>\n",
       "    <tr>\n",
       "      <td>17825</td>\n",
       "      <td>106180</td>\n",
       "      <td>2014-12-29</td>\n",
       "      <td>2014-12-29</td>\n",
       "      <td>95.0</td>\n",
       "    </tr>\n",
       "    <tr>\n",
       "      <td>17828</td>\n",
       "      <td>106184</td>\n",
       "      <td>2014-12-29</td>\n",
       "      <td>2014-12-29</td>\n",
       "      <td>29.0</td>\n",
       "    </tr>\n",
       "    <tr>\n",
       "      <td>17855</td>\n",
       "      <td>106204</td>\n",
       "      <td>2014-12-30</td>\n",
       "      <td>2014-12-30</td>\n",
       "      <td>88.0</td>\n",
       "    </tr>\n",
       "  </tbody>\n",
       "</table>\n",
       "<p>3167 rows × 4 columns</p>\n",
       "</div>"
      ]
     },
     "metadata": {},
     "execution_count": 53
    }
   ],
   "metadata": {}
  },
  {
   "cell_type": "code",
   "execution_count": 54,
   "source": [
    "CQ14['order_total'].mean()"
   ],
   "outputs": [
    {
     "output_type": "execute_result",
     "data": {
      "text/plain": [
       "81.24299652668161"
      ]
     },
     "metadata": {},
     "execution_count": 54
    }
   ],
   "metadata": {}
  },
  {
   "cell_type": "code",
   "execution_count": 55,
   "source": [
    "CQ14['shopper_id'].value_counts().sum()"
   ],
   "outputs": [
    {
     "output_type": "execute_result",
     "data": {
      "text/plain": [
       "3167"
      ]
     },
     "metadata": {},
     "execution_count": 55
    }
   ],
   "metadata": {}
  },
  {
   "cell_type": "code",
   "execution_count": 56,
   "source": [
    "CV2014 = CQ14['order_total'].mean() * CQ14['shopper_id'].value_counts().mean()\r\n",
    "CV2014"
   ],
   "outputs": [
    {
     "output_type": "execute_result",
     "data": {
      "text/plain": [
       "139.15444564629564"
      ]
     },
     "metadata": {},
     "execution_count": 56
    }
   ],
   "metadata": {}
  },
  {
   "cell_type": "code",
   "execution_count": 57,
   "source": [
    "Cust15=(purchase['order_submit_date'].dt.to_period('Y') == pd.to_datetime('2015').to_period('Y'))\r\n",
    "CQ15=purchase.loc[Cust15]\r\n",
    "CQ15"
   ],
   "outputs": [
    {
     "output_type": "execute_result",
     "data": {
      "text/plain": [
       "       shopper_id first_purchase_date order_submit_date  order_total\n",
       "6            1619          2014-05-10        2015-03-15       293.00\n",
       "7            1619          2014-05-10        2015-05-16       142.94\n",
       "20           1621          2014-05-23        2015-10-17        22.00\n",
       "21           1621          2014-05-23        2015-11-28        66.50\n",
       "22           1621          2014-05-23        2015-12-02       107.00\n",
       "...           ...                 ...               ...          ...\n",
       "19862      109781          2015-10-20        2015-10-20       118.00\n",
       "19863      115513          2015-12-08        2015-12-08        12.00\n",
       "19864      115630          2015-12-12        2015-12-12       125.00\n",
       "19865      115753          2015-12-15        2015-12-15        99.00\n",
       "19866      116022          2015-12-28        2015-12-28       135.50\n",
       "\n",
       "[8346 rows x 4 columns]"
      ],
      "text/html": [
       "<div>\n",
       "<style scoped>\n",
       "    .dataframe tbody tr th:only-of-type {\n",
       "        vertical-align: middle;\n",
       "    }\n",
       "\n",
       "    .dataframe tbody tr th {\n",
       "        vertical-align: top;\n",
       "    }\n",
       "\n",
       "    .dataframe thead th {\n",
       "        text-align: right;\n",
       "    }\n",
       "</style>\n",
       "<table border=\"1\" class=\"dataframe\">\n",
       "  <thead>\n",
       "    <tr style=\"text-align: right;\">\n",
       "      <th></th>\n",
       "      <th>shopper_id</th>\n",
       "      <th>first_purchase_date</th>\n",
       "      <th>order_submit_date</th>\n",
       "      <th>order_total</th>\n",
       "    </tr>\n",
       "  </thead>\n",
       "  <tbody>\n",
       "    <tr>\n",
       "      <td>6</td>\n",
       "      <td>1619</td>\n",
       "      <td>2014-05-10</td>\n",
       "      <td>2015-03-15</td>\n",
       "      <td>293.00</td>\n",
       "    </tr>\n",
       "    <tr>\n",
       "      <td>7</td>\n",
       "      <td>1619</td>\n",
       "      <td>2014-05-10</td>\n",
       "      <td>2015-05-16</td>\n",
       "      <td>142.94</td>\n",
       "    </tr>\n",
       "    <tr>\n",
       "      <td>20</td>\n",
       "      <td>1621</td>\n",
       "      <td>2014-05-23</td>\n",
       "      <td>2015-10-17</td>\n",
       "      <td>22.00</td>\n",
       "    </tr>\n",
       "    <tr>\n",
       "      <td>21</td>\n",
       "      <td>1621</td>\n",
       "      <td>2014-05-23</td>\n",
       "      <td>2015-11-28</td>\n",
       "      <td>66.50</td>\n",
       "    </tr>\n",
       "    <tr>\n",
       "      <td>22</td>\n",
       "      <td>1621</td>\n",
       "      <td>2014-05-23</td>\n",
       "      <td>2015-12-02</td>\n",
       "      <td>107.00</td>\n",
       "    </tr>\n",
       "    <tr>\n",
       "      <td>...</td>\n",
       "      <td>...</td>\n",
       "      <td>...</td>\n",
       "      <td>...</td>\n",
       "      <td>...</td>\n",
       "    </tr>\n",
       "    <tr>\n",
       "      <td>19862</td>\n",
       "      <td>109781</td>\n",
       "      <td>2015-10-20</td>\n",
       "      <td>2015-10-20</td>\n",
       "      <td>118.00</td>\n",
       "    </tr>\n",
       "    <tr>\n",
       "      <td>19863</td>\n",
       "      <td>115513</td>\n",
       "      <td>2015-12-08</td>\n",
       "      <td>2015-12-08</td>\n",
       "      <td>12.00</td>\n",
       "    </tr>\n",
       "    <tr>\n",
       "      <td>19864</td>\n",
       "      <td>115630</td>\n",
       "      <td>2015-12-12</td>\n",
       "      <td>2015-12-12</td>\n",
       "      <td>125.00</td>\n",
       "    </tr>\n",
       "    <tr>\n",
       "      <td>19865</td>\n",
       "      <td>115753</td>\n",
       "      <td>2015-12-15</td>\n",
       "      <td>2015-12-15</td>\n",
       "      <td>99.00</td>\n",
       "    </tr>\n",
       "    <tr>\n",
       "      <td>19866</td>\n",
       "      <td>116022</td>\n",
       "      <td>2015-12-28</td>\n",
       "      <td>2015-12-28</td>\n",
       "      <td>135.50</td>\n",
       "    </tr>\n",
       "  </tbody>\n",
       "</table>\n",
       "<p>8346 rows × 4 columns</p>\n",
       "</div>"
      ]
     },
     "metadata": {},
     "execution_count": 57
    }
   ],
   "metadata": {}
  },
  {
   "cell_type": "code",
   "execution_count": 58,
   "source": [
    "CQ15['order_total'].mean()"
   ],
   "outputs": [
    {
     "output_type": "execute_result",
     "data": {
      "text/plain": [
       "107.60446441408918"
      ]
     },
     "metadata": {},
     "execution_count": 58
    }
   ],
   "metadata": {}
  },
  {
   "cell_type": "code",
   "execution_count": 59,
   "source": [
    "CQ15['shopper_id'].value_counts().sum()"
   ],
   "outputs": [
    {
     "output_type": "execute_result",
     "data": {
      "text/plain": [
       "8346"
      ]
     },
     "metadata": {},
     "execution_count": 59
    }
   ],
   "metadata": {}
  },
  {
   "cell_type": "code",
   "execution_count": 60,
   "source": [
    "CV2015 = CQ15['order_total'].mean() * CQ15['shopper_id'].value_counts().mean()\r\n",
    "CV2015"
   ],
   "outputs": [
    {
     "output_type": "execute_result",
     "data": {
      "text/plain": [
       "240.96239871209775"
      ]
     },
     "metadata": {},
     "execution_count": 60
    }
   ],
   "metadata": {}
  },
  {
   "cell_type": "code",
   "execution_count": 61,
   "source": [
    "Cust16=(purchase['order_submit_date'].dt.to_period('Y') == pd.to_datetime('2016').to_period('Y'))\r\n",
    "CQ16=purchase.loc[Cust16]\r\n",
    "CQ16"
   ],
   "outputs": [
    {
     "output_type": "execute_result",
     "data": {
      "text/plain": [
       "       shopper_id first_purchase_date order_submit_date  order_total\n",
       "8            1619          2014-05-10        2016-07-16       433.99\n",
       "9            1619          2014-05-10        2016-11-28       352.00\n",
       "12           1620          2014-06-01        2016-01-07       130.00\n",
       "13           1620          2014-06-01        2016-08-15        66.50\n",
       "23           1621          2014-05-23        2016-01-01       132.00\n",
       "...           ...                 ...               ...          ...\n",
       "23832      151035          2016-12-31        2016-12-31        91.00\n",
       "23834      151056          2016-12-31        2016-12-31        89.97\n",
       "23835      151060          2016-12-31        2016-12-31        59.98\n",
       "23836      151062          2016-12-31        2016-12-31        36.00\n",
       "23837      151101          2016-12-31        2016-12-31        54.50\n",
       "\n",
       "[11446 rows x 4 columns]"
      ],
      "text/html": [
       "<div>\n",
       "<style scoped>\n",
       "    .dataframe tbody tr th:only-of-type {\n",
       "        vertical-align: middle;\n",
       "    }\n",
       "\n",
       "    .dataframe tbody tr th {\n",
       "        vertical-align: top;\n",
       "    }\n",
       "\n",
       "    .dataframe thead th {\n",
       "        text-align: right;\n",
       "    }\n",
       "</style>\n",
       "<table border=\"1\" class=\"dataframe\">\n",
       "  <thead>\n",
       "    <tr style=\"text-align: right;\">\n",
       "      <th></th>\n",
       "      <th>shopper_id</th>\n",
       "      <th>first_purchase_date</th>\n",
       "      <th>order_submit_date</th>\n",
       "      <th>order_total</th>\n",
       "    </tr>\n",
       "  </thead>\n",
       "  <tbody>\n",
       "    <tr>\n",
       "      <td>8</td>\n",
       "      <td>1619</td>\n",
       "      <td>2014-05-10</td>\n",
       "      <td>2016-07-16</td>\n",
       "      <td>433.99</td>\n",
       "    </tr>\n",
       "    <tr>\n",
       "      <td>9</td>\n",
       "      <td>1619</td>\n",
       "      <td>2014-05-10</td>\n",
       "      <td>2016-11-28</td>\n",
       "      <td>352.00</td>\n",
       "    </tr>\n",
       "    <tr>\n",
       "      <td>12</td>\n",
       "      <td>1620</td>\n",
       "      <td>2014-06-01</td>\n",
       "      <td>2016-01-07</td>\n",
       "      <td>130.00</td>\n",
       "    </tr>\n",
       "    <tr>\n",
       "      <td>13</td>\n",
       "      <td>1620</td>\n",
       "      <td>2014-06-01</td>\n",
       "      <td>2016-08-15</td>\n",
       "      <td>66.50</td>\n",
       "    </tr>\n",
       "    <tr>\n",
       "      <td>23</td>\n",
       "      <td>1621</td>\n",
       "      <td>2014-05-23</td>\n",
       "      <td>2016-01-01</td>\n",
       "      <td>132.00</td>\n",
       "    </tr>\n",
       "    <tr>\n",
       "      <td>...</td>\n",
       "      <td>...</td>\n",
       "      <td>...</td>\n",
       "      <td>...</td>\n",
       "      <td>...</td>\n",
       "    </tr>\n",
       "    <tr>\n",
       "      <td>23832</td>\n",
       "      <td>151035</td>\n",
       "      <td>2016-12-31</td>\n",
       "      <td>2016-12-31</td>\n",
       "      <td>91.00</td>\n",
       "    </tr>\n",
       "    <tr>\n",
       "      <td>23834</td>\n",
       "      <td>151056</td>\n",
       "      <td>2016-12-31</td>\n",
       "      <td>2016-12-31</td>\n",
       "      <td>89.97</td>\n",
       "    </tr>\n",
       "    <tr>\n",
       "      <td>23835</td>\n",
       "      <td>151060</td>\n",
       "      <td>2016-12-31</td>\n",
       "      <td>2016-12-31</td>\n",
       "      <td>59.98</td>\n",
       "    </tr>\n",
       "    <tr>\n",
       "      <td>23836</td>\n",
       "      <td>151062</td>\n",
       "      <td>2016-12-31</td>\n",
       "      <td>2016-12-31</td>\n",
       "      <td>36.00</td>\n",
       "    </tr>\n",
       "    <tr>\n",
       "      <td>23837</td>\n",
       "      <td>151101</td>\n",
       "      <td>2016-12-31</td>\n",
       "      <td>2016-12-31</td>\n",
       "      <td>54.50</td>\n",
       "    </tr>\n",
       "  </tbody>\n",
       "</table>\n",
       "<p>11446 rows × 4 columns</p>\n",
       "</div>"
      ]
     },
     "metadata": {},
     "execution_count": 61
    }
   ],
   "metadata": {}
  },
  {
   "cell_type": "code",
   "execution_count": 62,
   "source": [
    "CQ16['order_total'].mean()"
   ],
   "outputs": [
    {
     "output_type": "execute_result",
     "data": {
      "text/plain": [
       "119.17794862834079"
      ]
     },
     "metadata": {},
     "execution_count": 62
    }
   ],
   "metadata": {}
  },
  {
   "cell_type": "code",
   "execution_count": 63,
   "source": [
    "CQ16['shopper_id'].value_counts().sum()"
   ],
   "outputs": [
    {
     "output_type": "execute_result",
     "data": {
      "text/plain": [
       "11446"
      ]
     },
     "metadata": {},
     "execution_count": 63
    }
   ],
   "metadata": {}
  },
  {
   "cell_type": "code",
   "execution_count": 64,
   "source": [
    "CV2016 = CQ16['order_total'].mean() * CQ16['shopper_id'].value_counts().mean()\r\n",
    "CV2016"
   ],
   "outputs": [
    {
     "output_type": "execute_result",
     "data": {
      "text/plain": [
       "256.4600112803137"
      ]
     },
     "metadata": {},
     "execution_count": 64
    }
   ],
   "metadata": {}
  },
  {
   "cell_type": "code",
   "execution_count": 65,
   "source": [
    "Cust17=(purchase['order_submit_date'].dt.to_period('Y') == pd.to_datetime('2017').to_period('Y'))\r\n",
    "CQ17=purchase.loc[Cust17]\r\n",
    "CQ17"
   ],
   "outputs": [
    {
     "output_type": "execute_result",
     "data": {
      "text/plain": [
       "       shopper_id first_purchase_date order_submit_date  order_total\n",
       "30           1621          2014-05-23        2017-01-03        68.00\n",
       "85           1642          2014-07-10        2017-01-10       328.50\n",
       "96           1644          2017-01-07        2017-01-07        58.00\n",
       "150          1648          2014-05-15        2017-01-01        34.50\n",
       "151          1648          2014-05-15        2017-01-21        17.50\n",
       "...           ...                 ...               ...          ...\n",
       "24324      157488          2017-02-03        2017-02-03        30.00\n",
       "24325      157516          2017-02-03        2017-02-03        90.00\n",
       "24326      157531          2017-02-03        2017-02-03        10.00\n",
       "24327      157549          2017-02-03        2017-02-03        53.75\n",
       "24328      157560          2017-02-03        2017-02-03        45.00\n",
       "\n",
       "[1370 rows x 4 columns]"
      ],
      "text/html": [
       "<div>\n",
       "<style scoped>\n",
       "    .dataframe tbody tr th:only-of-type {\n",
       "        vertical-align: middle;\n",
       "    }\n",
       "\n",
       "    .dataframe tbody tr th {\n",
       "        vertical-align: top;\n",
       "    }\n",
       "\n",
       "    .dataframe thead th {\n",
       "        text-align: right;\n",
       "    }\n",
       "</style>\n",
       "<table border=\"1\" class=\"dataframe\">\n",
       "  <thead>\n",
       "    <tr style=\"text-align: right;\">\n",
       "      <th></th>\n",
       "      <th>shopper_id</th>\n",
       "      <th>first_purchase_date</th>\n",
       "      <th>order_submit_date</th>\n",
       "      <th>order_total</th>\n",
       "    </tr>\n",
       "  </thead>\n",
       "  <tbody>\n",
       "    <tr>\n",
       "      <td>30</td>\n",
       "      <td>1621</td>\n",
       "      <td>2014-05-23</td>\n",
       "      <td>2017-01-03</td>\n",
       "      <td>68.00</td>\n",
       "    </tr>\n",
       "    <tr>\n",
       "      <td>85</td>\n",
       "      <td>1642</td>\n",
       "      <td>2014-07-10</td>\n",
       "      <td>2017-01-10</td>\n",
       "      <td>328.50</td>\n",
       "    </tr>\n",
       "    <tr>\n",
       "      <td>96</td>\n",
       "      <td>1644</td>\n",
       "      <td>2017-01-07</td>\n",
       "      <td>2017-01-07</td>\n",
       "      <td>58.00</td>\n",
       "    </tr>\n",
       "    <tr>\n",
       "      <td>150</td>\n",
       "      <td>1648</td>\n",
       "      <td>2014-05-15</td>\n",
       "      <td>2017-01-01</td>\n",
       "      <td>34.50</td>\n",
       "    </tr>\n",
       "    <tr>\n",
       "      <td>151</td>\n",
       "      <td>1648</td>\n",
       "      <td>2014-05-15</td>\n",
       "      <td>2017-01-21</td>\n",
       "      <td>17.50</td>\n",
       "    </tr>\n",
       "    <tr>\n",
       "      <td>...</td>\n",
       "      <td>...</td>\n",
       "      <td>...</td>\n",
       "      <td>...</td>\n",
       "      <td>...</td>\n",
       "    </tr>\n",
       "    <tr>\n",
       "      <td>24324</td>\n",
       "      <td>157488</td>\n",
       "      <td>2017-02-03</td>\n",
       "      <td>2017-02-03</td>\n",
       "      <td>30.00</td>\n",
       "    </tr>\n",
       "    <tr>\n",
       "      <td>24325</td>\n",
       "      <td>157516</td>\n",
       "      <td>2017-02-03</td>\n",
       "      <td>2017-02-03</td>\n",
       "      <td>90.00</td>\n",
       "    </tr>\n",
       "    <tr>\n",
       "      <td>24326</td>\n",
       "      <td>157531</td>\n",
       "      <td>2017-02-03</td>\n",
       "      <td>2017-02-03</td>\n",
       "      <td>10.00</td>\n",
       "    </tr>\n",
       "    <tr>\n",
       "      <td>24327</td>\n",
       "      <td>157549</td>\n",
       "      <td>2017-02-03</td>\n",
       "      <td>2017-02-03</td>\n",
       "      <td>53.75</td>\n",
       "    </tr>\n",
       "    <tr>\n",
       "      <td>24328</td>\n",
       "      <td>157560</td>\n",
       "      <td>2017-02-03</td>\n",
       "      <td>2017-02-03</td>\n",
       "      <td>45.00</td>\n",
       "    </tr>\n",
       "  </tbody>\n",
       "</table>\n",
       "<p>1370 rows × 4 columns</p>\n",
       "</div>"
      ]
     },
     "metadata": {},
     "execution_count": 65
    }
   ],
   "metadata": {}
  },
  {
   "cell_type": "code",
   "execution_count": 66,
   "source": [
    "CQ17['order_total'].mean()"
   ],
   "outputs": [
    {
     "output_type": "execute_result",
     "data": {
      "text/plain": [
       "114.2644233576643"
      ]
     },
     "metadata": {},
     "execution_count": 66
    }
   ],
   "metadata": {}
  },
  {
   "cell_type": "code",
   "execution_count": 67,
   "source": [
    "CQ17['shopper_id'].value_counts().sum()"
   ],
   "outputs": [
    {
     "output_type": "execute_result",
     "data": {
      "text/plain": [
       "1370"
      ]
     },
     "metadata": {},
     "execution_count": 67
    }
   ],
   "metadata": {}
  },
  {
   "cell_type": "code",
   "execution_count": 68,
   "source": [
    "CV2017 = CQ17['order_total'].mean() * CQ17['shopper_id'].value_counts().mean()\r\n",
    "CV2017"
   ],
   "outputs": [
    {
     "output_type": "execute_result",
     "data": {
      "text/plain": [
       "166.35734325185982"
      ]
     },
     "metadata": {},
     "execution_count": 68
    }
   ],
   "metadata": {}
  },
  {
   "cell_type": "code",
   "execution_count": 69,
   "source": [
    "Q = [CQ14['order_total'].sum(),CQ15['order_total'].sum(),CQ16['order_total'].sum(),CQ17['order_total'].sum()]\r\n",
    "G = pd.DataFrame(Q)\r\n",
    "G['Date']= ('2014','2015','2016','2017')\r\n",
    "G.columns = ['Order_total', 'Date']\r\n",
    "G"
   ],
   "outputs": [
    {
     "output_type": "execute_result",
     "data": {
      "text/plain": [
       "   Order_total  Date\n",
       "0    257296.57  2014\n",
       "1    898066.86  2015\n",
       "2   1364110.80  2016\n",
       "3    156542.26  2017"
      ],
      "text/html": [
       "<div>\n",
       "<style scoped>\n",
       "    .dataframe tbody tr th:only-of-type {\n",
       "        vertical-align: middle;\n",
       "    }\n",
       "\n",
       "    .dataframe tbody tr th {\n",
       "        vertical-align: top;\n",
       "    }\n",
       "\n",
       "    .dataframe thead th {\n",
       "        text-align: right;\n",
       "    }\n",
       "</style>\n",
       "<table border=\"1\" class=\"dataframe\">\n",
       "  <thead>\n",
       "    <tr style=\"text-align: right;\">\n",
       "      <th></th>\n",
       "      <th>Order_total</th>\n",
       "      <th>Date</th>\n",
       "    </tr>\n",
       "  </thead>\n",
       "  <tbody>\n",
       "    <tr>\n",
       "      <td>0</td>\n",
       "      <td>257296.57</td>\n",
       "      <td>2014</td>\n",
       "    </tr>\n",
       "    <tr>\n",
       "      <td>1</td>\n",
       "      <td>898066.86</td>\n",
       "      <td>2015</td>\n",
       "    </tr>\n",
       "    <tr>\n",
       "      <td>2</td>\n",
       "      <td>1364110.80</td>\n",
       "      <td>2016</td>\n",
       "    </tr>\n",
       "    <tr>\n",
       "      <td>3</td>\n",
       "      <td>156542.26</td>\n",
       "      <td>2017</td>\n",
       "    </tr>\n",
       "  </tbody>\n",
       "</table>\n",
       "</div>"
      ]
     },
     "metadata": {},
     "execution_count": 69
    }
   ],
   "metadata": {}
  },
  {
   "cell_type": "code",
   "execution_count": 70,
   "source": [
    "G.plot(kind='bar', x='Date',figsize=(12,6))"
   ],
   "outputs": [
    {
     "output_type": "execute_result",
     "data": {
      "text/plain": [
       "<matplotlib.axes._subplots.AxesSubplot at 0x2b1bb18b208>"
      ]
     },
     "metadata": {},
     "execution_count": 70
    },
    {
     "output_type": "display_data",
     "data": {
      "text/plain": [
       "<Figure size 864x432 with 1 Axes>"
      ],
      "image/svg+xml": "<?xml version=\"1.0\" encoding=\"utf-8\" standalone=\"no\"?>\r\n<!DOCTYPE svg PUBLIC \"-//W3C//DTD SVG 1.1//EN\"\r\n  \"http://www.w3.org/Graphics/SVG/1.1/DTD/svg11.dtd\">\r\n<!-- Created with matplotlib (https://matplotlib.org/) -->\r\n<svg height=\"386.688125pt\" version=\"1.1\" viewBox=\"0 0 735.5375 386.688125\" width=\"735.5375pt\" xmlns=\"http://www.w3.org/2000/svg\" xmlns:xlink=\"http://www.w3.org/1999/xlink\">\r\n <defs>\r\n  <style type=\"text/css\">\r\n*{stroke-linecap:butt;stroke-linejoin:round;}\r\n  </style>\r\n </defs>\r\n <g id=\"figure_1\">\r\n  <g id=\"patch_1\">\r\n   <path d=\"M 0 386.688125 \r\nL 735.5375 386.688125 \r\nL 735.5375 0 \r\nL 0 0 \r\nz\r\n\" style=\"fill:none;\"/>\r\n  </g>\r\n  <g id=\"axes_1\">\r\n   <g id=\"patch_2\">\r\n    <path d=\"M 58.7375 333.36 \r\nL 728.3375 333.36 \r\nL 728.3375 7.2 \r\nL 58.7375 7.2 \r\nz\r\n\" style=\"fill:#ffffff;\"/>\r\n   </g>\r\n   <g id=\"patch_3\">\r\n    <path clip-path=\"url(#pa527934a7e)\" d=\"M 100.5875 333.36 \r\nL 184.2875 333.36 \r\nL 184.2875 274.769696 \r\nL 100.5875 274.769696 \r\nz\r\n\" style=\"fill:#1f77b4;\"/>\r\n   </g>\r\n   <g id=\"patch_4\">\r\n    <path clip-path=\"url(#pa527934a7e)\" d=\"M 267.9875 333.36 \r\nL 351.6875 333.36 \r\nL 351.6875 128.856652 \r\nL 267.9875 128.856652 \r\nz\r\n\" style=\"fill:#1f77b4;\"/>\r\n   </g>\r\n   <g id=\"patch_5\">\r\n    <path clip-path=\"url(#pa527934a7e)\" d=\"M 435.3875 333.36 \r\nL 519.0875 333.36 \r\nL 519.0875 22.731429 \r\nL 435.3875 22.731429 \r\nz\r\n\" style=\"fill:#1f77b4;\"/>\r\n   </g>\r\n   <g id=\"patch_6\">\r\n    <path clip-path=\"url(#pa527934a7e)\" d=\"M 602.7875 333.36 \r\nL 686.4875 333.36 \r\nL 686.4875 297.71297 \r\nL 602.7875 297.71297 \r\nz\r\n\" style=\"fill:#1f77b4;\"/>\r\n   </g>\r\n   <g id=\"matplotlib.axis_1\">\r\n    <g id=\"xtick_1\">\r\n     <g id=\"line2d_1\">\r\n      <defs>\r\n       <path d=\"M 0 0 \r\nL 0 3.5 \r\n\" id=\"mae54a37894\" style=\"stroke:#000000;stroke-width:0.8;\"/>\r\n      </defs>\r\n      <g>\r\n       <use style=\"stroke:#000000;stroke-width:0.8;\" x=\"142.4375\" xlink:href=\"#mae54a37894\" y=\"333.36\"/>\r\n      </g>\r\n     </g>\r\n     <g id=\"text_1\">\r\n      <!-- 2014 -->\r\n      <defs>\r\n       <path d=\"M 19.1875 8.296875 \r\nL 53.609375 8.296875 \r\nL 53.609375 0 \r\nL 7.328125 0 \r\nL 7.328125 8.296875 \r\nQ 12.9375 14.109375 22.625 23.890625 \r\nQ 32.328125 33.6875 34.8125 36.53125 \r\nQ 39.546875 41.84375 41.421875 45.53125 \r\nQ 43.3125 49.21875 43.3125 52.78125 \r\nQ 43.3125 58.59375 39.234375 62.25 \r\nQ 35.15625 65.921875 28.609375 65.921875 \r\nQ 23.96875 65.921875 18.8125 64.3125 \r\nQ 13.671875 62.703125 7.8125 59.421875 \r\nL 7.8125 69.390625 \r\nQ 13.765625 71.78125 18.9375 73 \r\nQ 24.125 74.21875 28.421875 74.21875 \r\nQ 39.75 74.21875 46.484375 68.546875 \r\nQ 53.21875 62.890625 53.21875 53.421875 \r\nQ 53.21875 48.921875 51.53125 44.890625 \r\nQ 49.859375 40.875 45.40625 35.40625 \r\nQ 44.1875 33.984375 37.640625 27.21875 \r\nQ 31.109375 20.453125 19.1875 8.296875 \r\nz\r\n\" id=\"DejaVuSans-50\"/>\r\n       <path d=\"M 31.78125 66.40625 \r\nQ 24.171875 66.40625 20.328125 58.90625 \r\nQ 16.5 51.421875 16.5 36.375 \r\nQ 16.5 21.390625 20.328125 13.890625 \r\nQ 24.171875 6.390625 31.78125 6.390625 \r\nQ 39.453125 6.390625 43.28125 13.890625 \r\nQ 47.125 21.390625 47.125 36.375 \r\nQ 47.125 51.421875 43.28125 58.90625 \r\nQ 39.453125 66.40625 31.78125 66.40625 \r\nz\r\nM 31.78125 74.21875 \r\nQ 44.046875 74.21875 50.515625 64.515625 \r\nQ 56.984375 54.828125 56.984375 36.375 \r\nQ 56.984375 17.96875 50.515625 8.265625 \r\nQ 44.046875 -1.421875 31.78125 -1.421875 \r\nQ 19.53125 -1.421875 13.0625 8.265625 \r\nQ 6.59375 17.96875 6.59375 36.375 \r\nQ 6.59375 54.828125 13.0625 64.515625 \r\nQ 19.53125 74.21875 31.78125 74.21875 \r\nz\r\n\" id=\"DejaVuSans-48\"/>\r\n       <path d=\"M 12.40625 8.296875 \r\nL 28.515625 8.296875 \r\nL 28.515625 63.921875 \r\nL 10.984375 60.40625 \r\nL 10.984375 69.390625 \r\nL 28.421875 72.90625 \r\nL 38.28125 72.90625 \r\nL 38.28125 8.296875 \r\nL 54.390625 8.296875 \r\nL 54.390625 0 \r\nL 12.40625 0 \r\nz\r\n\" id=\"DejaVuSans-49\"/>\r\n       <path d=\"M 37.796875 64.3125 \r\nL 12.890625 25.390625 \r\nL 37.796875 25.390625 \r\nz\r\nM 35.203125 72.90625 \r\nL 47.609375 72.90625 \r\nL 47.609375 25.390625 \r\nL 58.015625 25.390625 \r\nL 58.015625 17.1875 \r\nL 47.609375 17.1875 \r\nL 47.609375 0 \r\nL 37.796875 0 \r\nL 37.796875 17.1875 \r\nL 4.890625 17.1875 \r\nL 4.890625 26.703125 \r\nz\r\n\" id=\"DejaVuSans-52\"/>\r\n      </defs>\r\n      <g transform=\"translate(145.196875 365.81)rotate(-90)scale(0.1 -0.1)\">\r\n       <use xlink:href=\"#DejaVuSans-50\"/>\r\n       <use x=\"63.623047\" xlink:href=\"#DejaVuSans-48\"/>\r\n       <use x=\"127.246094\" xlink:href=\"#DejaVuSans-49\"/>\r\n       <use x=\"190.869141\" xlink:href=\"#DejaVuSans-52\"/>\r\n      </g>\r\n     </g>\r\n    </g>\r\n    <g id=\"xtick_2\">\r\n     <g id=\"line2d_2\">\r\n      <g>\r\n       <use style=\"stroke:#000000;stroke-width:0.8;\" x=\"309.8375\" xlink:href=\"#mae54a37894\" y=\"333.36\"/>\r\n      </g>\r\n     </g>\r\n     <g id=\"text_2\">\r\n      <!-- 2015 -->\r\n      <defs>\r\n       <path d=\"M 10.796875 72.90625 \r\nL 49.515625 72.90625 \r\nL 49.515625 64.59375 \r\nL 19.828125 64.59375 \r\nL 19.828125 46.734375 \r\nQ 21.96875 47.46875 24.109375 47.828125 \r\nQ 26.265625 48.1875 28.421875 48.1875 \r\nQ 40.625 48.1875 47.75 41.5 \r\nQ 54.890625 34.8125 54.890625 23.390625 \r\nQ 54.890625 11.625 47.5625 5.09375 \r\nQ 40.234375 -1.421875 26.90625 -1.421875 \r\nQ 22.3125 -1.421875 17.546875 -0.640625 \r\nQ 12.796875 0.140625 7.71875 1.703125 \r\nL 7.71875 11.625 \r\nQ 12.109375 9.234375 16.796875 8.0625 \r\nQ 21.484375 6.890625 26.703125 6.890625 \r\nQ 35.15625 6.890625 40.078125 11.328125 \r\nQ 45.015625 15.765625 45.015625 23.390625 \r\nQ 45.015625 31 40.078125 35.4375 \r\nQ 35.15625 39.890625 26.703125 39.890625 \r\nQ 22.75 39.890625 18.8125 39.015625 \r\nQ 14.890625 38.140625 10.796875 36.28125 \r\nz\r\n\" id=\"DejaVuSans-53\"/>\r\n      </defs>\r\n      <g transform=\"translate(312.596875 365.81)rotate(-90)scale(0.1 -0.1)\">\r\n       <use xlink:href=\"#DejaVuSans-50\"/>\r\n       <use x=\"63.623047\" xlink:href=\"#DejaVuSans-48\"/>\r\n       <use x=\"127.246094\" xlink:href=\"#DejaVuSans-49\"/>\r\n       <use x=\"190.869141\" xlink:href=\"#DejaVuSans-53\"/>\r\n      </g>\r\n     </g>\r\n    </g>\r\n    <g id=\"xtick_3\">\r\n     <g id=\"line2d_3\">\r\n      <g>\r\n       <use style=\"stroke:#000000;stroke-width:0.8;\" x=\"477.2375\" xlink:href=\"#mae54a37894\" y=\"333.36\"/>\r\n      </g>\r\n     </g>\r\n     <g id=\"text_3\">\r\n      <!-- 2016 -->\r\n      <defs>\r\n       <path d=\"M 33.015625 40.375 \r\nQ 26.375 40.375 22.484375 35.828125 \r\nQ 18.609375 31.296875 18.609375 23.390625 \r\nQ 18.609375 15.53125 22.484375 10.953125 \r\nQ 26.375 6.390625 33.015625 6.390625 \r\nQ 39.65625 6.390625 43.53125 10.953125 \r\nQ 47.40625 15.53125 47.40625 23.390625 \r\nQ 47.40625 31.296875 43.53125 35.828125 \r\nQ 39.65625 40.375 33.015625 40.375 \r\nz\r\nM 52.59375 71.296875 \r\nL 52.59375 62.3125 \r\nQ 48.875 64.0625 45.09375 64.984375 \r\nQ 41.3125 65.921875 37.59375 65.921875 \r\nQ 27.828125 65.921875 22.671875 59.328125 \r\nQ 17.53125 52.734375 16.796875 39.40625 \r\nQ 19.671875 43.65625 24.015625 45.921875 \r\nQ 28.375 48.1875 33.59375 48.1875 \r\nQ 44.578125 48.1875 50.953125 41.515625 \r\nQ 57.328125 34.859375 57.328125 23.390625 \r\nQ 57.328125 12.15625 50.6875 5.359375 \r\nQ 44.046875 -1.421875 33.015625 -1.421875 \r\nQ 20.359375 -1.421875 13.671875 8.265625 \r\nQ 6.984375 17.96875 6.984375 36.375 \r\nQ 6.984375 53.65625 15.1875 63.9375 \r\nQ 23.390625 74.21875 37.203125 74.21875 \r\nQ 40.921875 74.21875 44.703125 73.484375 \r\nQ 48.484375 72.75 52.59375 71.296875 \r\nz\r\n\" id=\"DejaVuSans-54\"/>\r\n      </defs>\r\n      <g transform=\"translate(479.996875 365.81)rotate(-90)scale(0.1 -0.1)\">\r\n       <use xlink:href=\"#DejaVuSans-50\"/>\r\n       <use x=\"63.623047\" xlink:href=\"#DejaVuSans-48\"/>\r\n       <use x=\"127.246094\" xlink:href=\"#DejaVuSans-49\"/>\r\n       <use x=\"190.869141\" xlink:href=\"#DejaVuSans-54\"/>\r\n      </g>\r\n     </g>\r\n    </g>\r\n    <g id=\"xtick_4\">\r\n     <g id=\"line2d_4\">\r\n      <g>\r\n       <use style=\"stroke:#000000;stroke-width:0.8;\" x=\"644.6375\" xlink:href=\"#mae54a37894\" y=\"333.36\"/>\r\n      </g>\r\n     </g>\r\n     <g id=\"text_4\">\r\n      <!-- 2017 -->\r\n      <defs>\r\n       <path d=\"M 8.203125 72.90625 \r\nL 55.078125 72.90625 \r\nL 55.078125 68.703125 \r\nL 28.609375 0 \r\nL 18.3125 0 \r\nL 43.21875 64.59375 \r\nL 8.203125 64.59375 \r\nz\r\n\" id=\"DejaVuSans-55\"/>\r\n      </defs>\r\n      <g transform=\"translate(647.396875 365.81)rotate(-90)scale(0.1 -0.1)\">\r\n       <use xlink:href=\"#DejaVuSans-50\"/>\r\n       <use x=\"63.623047\" xlink:href=\"#DejaVuSans-48\"/>\r\n       <use x=\"127.246094\" xlink:href=\"#DejaVuSans-49\"/>\r\n       <use x=\"190.869141\" xlink:href=\"#DejaVuSans-55\"/>\r\n      </g>\r\n     </g>\r\n    </g>\r\n    <g id=\"text_5\">\r\n     <!-- Date -->\r\n     <defs>\r\n      <path d=\"M 19.671875 64.796875 \r\nL 19.671875 8.109375 \r\nL 31.59375 8.109375 \r\nQ 46.6875 8.109375 53.6875 14.9375 \r\nQ 60.6875 21.78125 60.6875 36.53125 \r\nQ 60.6875 51.171875 53.6875 57.984375 \r\nQ 46.6875 64.796875 31.59375 64.796875 \r\nz\r\nM 9.8125 72.90625 \r\nL 30.078125 72.90625 \r\nQ 51.265625 72.90625 61.171875 64.09375 \r\nQ 71.09375 55.28125 71.09375 36.53125 \r\nQ 71.09375 17.671875 61.125 8.828125 \r\nQ 51.171875 0 30.078125 0 \r\nL 9.8125 0 \r\nz\r\n\" id=\"DejaVuSans-68\"/>\r\n      <path d=\"M 34.28125 27.484375 \r\nQ 23.390625 27.484375 19.1875 25 \r\nQ 14.984375 22.515625 14.984375 16.5 \r\nQ 14.984375 11.71875 18.140625 8.90625 \r\nQ 21.296875 6.109375 26.703125 6.109375 \r\nQ 34.1875 6.109375 38.703125 11.40625 \r\nQ 43.21875 16.703125 43.21875 25.484375 \r\nL 43.21875 27.484375 \r\nz\r\nM 52.203125 31.203125 \r\nL 52.203125 0 \r\nL 43.21875 0 \r\nL 43.21875 8.296875 \r\nQ 40.140625 3.328125 35.546875 0.953125 \r\nQ 30.953125 -1.421875 24.3125 -1.421875 \r\nQ 15.921875 -1.421875 10.953125 3.296875 \r\nQ 6 8.015625 6 15.921875 \r\nQ 6 25.140625 12.171875 29.828125 \r\nQ 18.359375 34.515625 30.609375 34.515625 \r\nL 43.21875 34.515625 \r\nL 43.21875 35.40625 \r\nQ 43.21875 41.609375 39.140625 45 \r\nQ 35.0625 48.390625 27.6875 48.390625 \r\nQ 23 48.390625 18.546875 47.265625 \r\nQ 14.109375 46.140625 10.015625 43.890625 \r\nL 10.015625 52.203125 \r\nQ 14.9375 54.109375 19.578125 55.046875 \r\nQ 24.21875 56 28.609375 56 \r\nQ 40.484375 56 46.34375 49.84375 \r\nQ 52.203125 43.703125 52.203125 31.203125 \r\nz\r\n\" id=\"DejaVuSans-97\"/>\r\n      <path d=\"M 18.3125 70.21875 \r\nL 18.3125 54.6875 \r\nL 36.8125 54.6875 \r\nL 36.8125 47.703125 \r\nL 18.3125 47.703125 \r\nL 18.3125 18.015625 \r\nQ 18.3125 11.328125 20.140625 9.421875 \r\nQ 21.96875 7.515625 27.59375 7.515625 \r\nL 36.8125 7.515625 \r\nL 36.8125 0 \r\nL 27.59375 0 \r\nQ 17.1875 0 13.234375 3.875 \r\nQ 9.28125 7.765625 9.28125 18.015625 \r\nL 9.28125 47.703125 \r\nL 2.6875 47.703125 \r\nL 2.6875 54.6875 \r\nL 9.28125 54.6875 \r\nL 9.28125 70.21875 \r\nz\r\n\" id=\"DejaVuSans-116\"/>\r\n      <path d=\"M 56.203125 29.59375 \r\nL 56.203125 25.203125 \r\nL 14.890625 25.203125 \r\nQ 15.484375 15.921875 20.484375 11.0625 \r\nQ 25.484375 6.203125 34.421875 6.203125 \r\nQ 39.59375 6.203125 44.453125 7.46875 \r\nQ 49.3125 8.734375 54.109375 11.28125 \r\nL 54.109375 2.78125 \r\nQ 49.265625 0.734375 44.1875 -0.34375 \r\nQ 39.109375 -1.421875 33.890625 -1.421875 \r\nQ 20.796875 -1.421875 13.15625 6.1875 \r\nQ 5.515625 13.8125 5.515625 26.8125 \r\nQ 5.515625 40.234375 12.765625 48.109375 \r\nQ 20.015625 56 32.328125 56 \r\nQ 43.359375 56 49.78125 48.890625 \r\nQ 56.203125 41.796875 56.203125 29.59375 \r\nz\r\nM 47.21875 32.234375 \r\nQ 47.125 39.59375 43.09375 43.984375 \r\nQ 39.0625 48.390625 32.421875 48.390625 \r\nQ 24.90625 48.390625 20.390625 44.140625 \r\nQ 15.875 39.890625 15.1875 32.171875 \r\nz\r\n\" id=\"DejaVuSans-101\"/>\r\n     </defs>\r\n     <g transform=\"translate(381.586719 377.408437)scale(0.1 -0.1)\">\r\n      <use xlink:href=\"#DejaVuSans-68\"/>\r\n      <use x=\"77.001953\" xlink:href=\"#DejaVuSans-97\"/>\r\n      <use x=\"138.28125\" xlink:href=\"#DejaVuSans-116\"/>\r\n      <use x=\"177.490234\" xlink:href=\"#DejaVuSans-101\"/>\r\n     </g>\r\n    </g>\r\n   </g>\r\n   <g id=\"matplotlib.axis_2\">\r\n    <g id=\"ytick_1\">\r\n     <g id=\"line2d_5\">\r\n      <defs>\r\n       <path d=\"M 0 0 \r\nL -3.5 0 \r\n\" id=\"m644263ed90\" style=\"stroke:#000000;stroke-width:0.8;\"/>\r\n      </defs>\r\n      <g>\r\n       <use style=\"stroke:#000000;stroke-width:0.8;\" x=\"58.7375\" xlink:href=\"#m644263ed90\" y=\"333.36\"/>\r\n      </g>\r\n     </g>\r\n     <g id=\"text_6\">\r\n      <!-- 0 -->\r\n      <g transform=\"translate(45.375 337.159219)scale(0.1 -0.1)\">\r\n       <use xlink:href=\"#DejaVuSans-48\"/>\r\n      </g>\r\n     </g>\r\n    </g>\r\n    <g id=\"ytick_2\">\r\n     <g id=\"line2d_6\">\r\n      <g>\r\n       <use style=\"stroke:#000000;stroke-width:0.8;\" x=\"58.7375\" xlink:href=\"#m644263ed90\" y=\"287.816988\"/>\r\n      </g>\r\n     </g>\r\n     <g id=\"text_7\">\r\n      <!-- 200000 -->\r\n      <g transform=\"translate(13.5625 291.616207)scale(0.1 -0.1)\">\r\n       <use xlink:href=\"#DejaVuSans-50\"/>\r\n       <use x=\"63.623047\" xlink:href=\"#DejaVuSans-48\"/>\r\n       <use x=\"127.246094\" xlink:href=\"#DejaVuSans-48\"/>\r\n       <use x=\"190.869141\" xlink:href=\"#DejaVuSans-48\"/>\r\n       <use x=\"254.492188\" xlink:href=\"#DejaVuSans-48\"/>\r\n       <use x=\"318.115234\" xlink:href=\"#DejaVuSans-48\"/>\r\n      </g>\r\n     </g>\r\n    </g>\r\n    <g id=\"ytick_3\">\r\n     <g id=\"line2d_7\">\r\n      <g>\r\n       <use style=\"stroke:#000000;stroke-width:0.8;\" x=\"58.7375\" xlink:href=\"#m644263ed90\" y=\"242.273976\"/>\r\n      </g>\r\n     </g>\r\n     <g id=\"text_8\">\r\n      <!-- 400000 -->\r\n      <g transform=\"translate(13.5625 246.073195)scale(0.1 -0.1)\">\r\n       <use xlink:href=\"#DejaVuSans-52\"/>\r\n       <use x=\"63.623047\" xlink:href=\"#DejaVuSans-48\"/>\r\n       <use x=\"127.246094\" xlink:href=\"#DejaVuSans-48\"/>\r\n       <use x=\"190.869141\" xlink:href=\"#DejaVuSans-48\"/>\r\n       <use x=\"254.492188\" xlink:href=\"#DejaVuSans-48\"/>\r\n       <use x=\"318.115234\" xlink:href=\"#DejaVuSans-48\"/>\r\n      </g>\r\n     </g>\r\n    </g>\r\n    <g id=\"ytick_4\">\r\n     <g id=\"line2d_8\">\r\n      <g>\r\n       <use style=\"stroke:#000000;stroke-width:0.8;\" x=\"58.7375\" xlink:href=\"#m644263ed90\" y=\"196.730965\"/>\r\n      </g>\r\n     </g>\r\n     <g id=\"text_9\">\r\n      <!-- 600000 -->\r\n      <g transform=\"translate(13.5625 200.530183)scale(0.1 -0.1)\">\r\n       <use xlink:href=\"#DejaVuSans-54\"/>\r\n       <use x=\"63.623047\" xlink:href=\"#DejaVuSans-48\"/>\r\n       <use x=\"127.246094\" xlink:href=\"#DejaVuSans-48\"/>\r\n       <use x=\"190.869141\" xlink:href=\"#DejaVuSans-48\"/>\r\n       <use x=\"254.492188\" xlink:href=\"#DejaVuSans-48\"/>\r\n       <use x=\"318.115234\" xlink:href=\"#DejaVuSans-48\"/>\r\n      </g>\r\n     </g>\r\n    </g>\r\n    <g id=\"ytick_5\">\r\n     <g id=\"line2d_9\">\r\n      <g>\r\n       <use style=\"stroke:#000000;stroke-width:0.8;\" x=\"58.7375\" xlink:href=\"#m644263ed90\" y=\"151.187953\"/>\r\n      </g>\r\n     </g>\r\n     <g id=\"text_10\">\r\n      <!-- 800000 -->\r\n      <defs>\r\n       <path d=\"M 31.78125 34.625 \r\nQ 24.75 34.625 20.71875 30.859375 \r\nQ 16.703125 27.09375 16.703125 20.515625 \r\nQ 16.703125 13.921875 20.71875 10.15625 \r\nQ 24.75 6.390625 31.78125 6.390625 \r\nQ 38.8125 6.390625 42.859375 10.171875 \r\nQ 46.921875 13.96875 46.921875 20.515625 \r\nQ 46.921875 27.09375 42.890625 30.859375 \r\nQ 38.875 34.625 31.78125 34.625 \r\nz\r\nM 21.921875 38.8125 \r\nQ 15.578125 40.375 12.03125 44.71875 \r\nQ 8.5 49.078125 8.5 55.328125 \r\nQ 8.5 64.0625 14.71875 69.140625 \r\nQ 20.953125 74.21875 31.78125 74.21875 \r\nQ 42.671875 74.21875 48.875 69.140625 \r\nQ 55.078125 64.0625 55.078125 55.328125 \r\nQ 55.078125 49.078125 51.53125 44.71875 \r\nQ 48 40.375 41.703125 38.8125 \r\nQ 48.828125 37.15625 52.796875 32.3125 \r\nQ 56.78125 27.484375 56.78125 20.515625 \r\nQ 56.78125 9.90625 50.3125 4.234375 \r\nQ 43.84375 -1.421875 31.78125 -1.421875 \r\nQ 19.734375 -1.421875 13.25 4.234375 \r\nQ 6.78125 9.90625 6.78125 20.515625 \r\nQ 6.78125 27.484375 10.78125 32.3125 \r\nQ 14.796875 37.15625 21.921875 38.8125 \r\nz\r\nM 18.3125 54.390625 \r\nQ 18.3125 48.734375 21.84375 45.5625 \r\nQ 25.390625 42.390625 31.78125 42.390625 \r\nQ 38.140625 42.390625 41.71875 45.5625 \r\nQ 45.3125 48.734375 45.3125 54.390625 \r\nQ 45.3125 60.0625 41.71875 63.234375 \r\nQ 38.140625 66.40625 31.78125 66.40625 \r\nQ 25.390625 66.40625 21.84375 63.234375 \r\nQ 18.3125 60.0625 18.3125 54.390625 \r\nz\r\n\" id=\"DejaVuSans-56\"/>\r\n      </defs>\r\n      <g transform=\"translate(13.5625 154.987171)scale(0.1 -0.1)\">\r\n       <use xlink:href=\"#DejaVuSans-56\"/>\r\n       <use x=\"63.623047\" xlink:href=\"#DejaVuSans-48\"/>\r\n       <use x=\"127.246094\" xlink:href=\"#DejaVuSans-48\"/>\r\n       <use x=\"190.869141\" xlink:href=\"#DejaVuSans-48\"/>\r\n       <use x=\"254.492188\" xlink:href=\"#DejaVuSans-48\"/>\r\n       <use x=\"318.115234\" xlink:href=\"#DejaVuSans-48\"/>\r\n      </g>\r\n     </g>\r\n    </g>\r\n    <g id=\"ytick_6\">\r\n     <g id=\"line2d_10\">\r\n      <g>\r\n       <use style=\"stroke:#000000;stroke-width:0.8;\" x=\"58.7375\" xlink:href=\"#m644263ed90\" y=\"105.644941\"/>\r\n      </g>\r\n     </g>\r\n     <g id=\"text_11\">\r\n      <!-- 1000000 -->\r\n      <g transform=\"translate(7.2 109.44416)scale(0.1 -0.1)\">\r\n       <use xlink:href=\"#DejaVuSans-49\"/>\r\n       <use x=\"63.623047\" xlink:href=\"#DejaVuSans-48\"/>\r\n       <use x=\"127.246094\" xlink:href=\"#DejaVuSans-48\"/>\r\n       <use x=\"190.869141\" xlink:href=\"#DejaVuSans-48\"/>\r\n       <use x=\"254.492188\" xlink:href=\"#DejaVuSans-48\"/>\r\n       <use x=\"318.115234\" xlink:href=\"#DejaVuSans-48\"/>\r\n       <use x=\"381.738281\" xlink:href=\"#DejaVuSans-48\"/>\r\n      </g>\r\n     </g>\r\n    </g>\r\n    <g id=\"ytick_7\">\r\n     <g id=\"line2d_11\">\r\n      <g>\r\n       <use style=\"stroke:#000000;stroke-width:0.8;\" x=\"58.7375\" xlink:href=\"#m644263ed90\" y=\"60.101929\"/>\r\n      </g>\r\n     </g>\r\n     <g id=\"text_12\">\r\n      <!-- 1200000 -->\r\n      <g transform=\"translate(7.2 63.901148)scale(0.1 -0.1)\">\r\n       <use xlink:href=\"#DejaVuSans-49\"/>\r\n       <use x=\"63.623047\" xlink:href=\"#DejaVuSans-50\"/>\r\n       <use x=\"127.246094\" xlink:href=\"#DejaVuSans-48\"/>\r\n       <use x=\"190.869141\" xlink:href=\"#DejaVuSans-48\"/>\r\n       <use x=\"254.492188\" xlink:href=\"#DejaVuSans-48\"/>\r\n       <use x=\"318.115234\" xlink:href=\"#DejaVuSans-48\"/>\r\n       <use x=\"381.738281\" xlink:href=\"#DejaVuSans-48\"/>\r\n      </g>\r\n     </g>\r\n    </g>\r\n    <g id=\"ytick_8\">\r\n     <g id=\"line2d_12\">\r\n      <g>\r\n       <use style=\"stroke:#000000;stroke-width:0.8;\" x=\"58.7375\" xlink:href=\"#m644263ed90\" y=\"14.558917\"/>\r\n      </g>\r\n     </g>\r\n     <g id=\"text_13\">\r\n      <!-- 1400000 -->\r\n      <g transform=\"translate(7.2 18.358136)scale(0.1 -0.1)\">\r\n       <use xlink:href=\"#DejaVuSans-49\"/>\r\n       <use x=\"63.623047\" xlink:href=\"#DejaVuSans-52\"/>\r\n       <use x=\"127.246094\" xlink:href=\"#DejaVuSans-48\"/>\r\n       <use x=\"190.869141\" xlink:href=\"#DejaVuSans-48\"/>\r\n       <use x=\"254.492188\" xlink:href=\"#DejaVuSans-48\"/>\r\n       <use x=\"318.115234\" xlink:href=\"#DejaVuSans-48\"/>\r\n       <use x=\"381.738281\" xlink:href=\"#DejaVuSans-48\"/>\r\n      </g>\r\n     </g>\r\n    </g>\r\n   </g>\r\n   <g id=\"patch_7\">\r\n    <path d=\"M 58.7375 333.36 \r\nL 58.7375 7.2 \r\n\" style=\"fill:none;stroke:#000000;stroke-linecap:square;stroke-linejoin:miter;stroke-width:0.8;\"/>\r\n   </g>\r\n   <g id=\"patch_8\">\r\n    <path d=\"M 728.3375 333.36 \r\nL 728.3375 7.2 \r\n\" style=\"fill:none;stroke:#000000;stroke-linecap:square;stroke-linejoin:miter;stroke-width:0.8;\"/>\r\n   </g>\r\n   <g id=\"patch_9\">\r\n    <path d=\"M 58.7375 333.36 \r\nL 728.3375 333.36 \r\n\" style=\"fill:none;stroke:#000000;stroke-linecap:square;stroke-linejoin:miter;stroke-width:0.8;\"/>\r\n   </g>\r\n   <g id=\"patch_10\">\r\n    <path d=\"M 58.7375 7.2 \r\nL 728.3375 7.2 \r\n\" style=\"fill:none;stroke:#000000;stroke-linecap:square;stroke-linejoin:miter;stroke-width:0.8;\"/>\r\n   </g>\r\n   <g id=\"legend_1\">\r\n    <g id=\"patch_11\">\r\n     <path d=\"M 632.878125 30.15625 \r\nL 721.3375 30.15625 \r\nQ 723.3375 30.15625 723.3375 28.15625 \r\nL 723.3375 14.2 \r\nQ 723.3375 12.2 721.3375 12.2 \r\nL 632.878125 12.2 \r\nQ 630.878125 12.2 630.878125 14.2 \r\nL 630.878125 28.15625 \r\nQ 630.878125 30.15625 632.878125 30.15625 \r\nz\r\n\" style=\"fill:#ffffff;opacity:0.8;stroke:#cccccc;stroke-linejoin:miter;\"/>\r\n    </g>\r\n    <g id=\"patch_12\">\r\n     <path d=\"M 634.878125 23.798437 \r\nL 654.878125 23.798437 \r\nL 654.878125 16.798437 \r\nL 634.878125 16.798437 \r\nz\r\n\" style=\"fill:#1f77b4;\"/>\r\n    </g>\r\n    <g id=\"text_14\">\r\n     <!-- Order_total -->\r\n     <defs>\r\n      <path d=\"M 39.40625 66.21875 \r\nQ 28.65625 66.21875 22.328125 58.203125 \r\nQ 16.015625 50.203125 16.015625 36.375 \r\nQ 16.015625 22.609375 22.328125 14.59375 \r\nQ 28.65625 6.59375 39.40625 6.59375 \r\nQ 50.140625 6.59375 56.421875 14.59375 \r\nQ 62.703125 22.609375 62.703125 36.375 \r\nQ 62.703125 50.203125 56.421875 58.203125 \r\nQ 50.140625 66.21875 39.40625 66.21875 \r\nz\r\nM 39.40625 74.21875 \r\nQ 54.734375 74.21875 63.90625 63.9375 \r\nQ 73.09375 53.65625 73.09375 36.375 \r\nQ 73.09375 19.140625 63.90625 8.859375 \r\nQ 54.734375 -1.421875 39.40625 -1.421875 \r\nQ 24.03125 -1.421875 14.8125 8.828125 \r\nQ 5.609375 19.09375 5.609375 36.375 \r\nQ 5.609375 53.65625 14.8125 63.9375 \r\nQ 24.03125 74.21875 39.40625 74.21875 \r\nz\r\n\" id=\"DejaVuSans-79\"/>\r\n      <path d=\"M 41.109375 46.296875 \r\nQ 39.59375 47.171875 37.8125 47.578125 \r\nQ 36.03125 48 33.890625 48 \r\nQ 26.265625 48 22.1875 43.046875 \r\nQ 18.109375 38.09375 18.109375 28.8125 \r\nL 18.109375 0 \r\nL 9.078125 0 \r\nL 9.078125 54.6875 \r\nL 18.109375 54.6875 \r\nL 18.109375 46.1875 \r\nQ 20.953125 51.171875 25.484375 53.578125 \r\nQ 30.03125 56 36.53125 56 \r\nQ 37.453125 56 38.578125 55.875 \r\nQ 39.703125 55.765625 41.0625 55.515625 \r\nz\r\n\" id=\"DejaVuSans-114\"/>\r\n      <path d=\"M 45.40625 46.390625 \r\nL 45.40625 75.984375 \r\nL 54.390625 75.984375 \r\nL 54.390625 0 \r\nL 45.40625 0 \r\nL 45.40625 8.203125 \r\nQ 42.578125 3.328125 38.25 0.953125 \r\nQ 33.9375 -1.421875 27.875 -1.421875 \r\nQ 17.96875 -1.421875 11.734375 6.484375 \r\nQ 5.515625 14.40625 5.515625 27.296875 \r\nQ 5.515625 40.1875 11.734375 48.09375 \r\nQ 17.96875 56 27.875 56 \r\nQ 33.9375 56 38.25 53.625 \r\nQ 42.578125 51.265625 45.40625 46.390625 \r\nz\r\nM 14.796875 27.296875 \r\nQ 14.796875 17.390625 18.875 11.75 \r\nQ 22.953125 6.109375 30.078125 6.109375 \r\nQ 37.203125 6.109375 41.296875 11.75 \r\nQ 45.40625 17.390625 45.40625 27.296875 \r\nQ 45.40625 37.203125 41.296875 42.84375 \r\nQ 37.203125 48.484375 30.078125 48.484375 \r\nQ 22.953125 48.484375 18.875 42.84375 \r\nQ 14.796875 37.203125 14.796875 27.296875 \r\nz\r\n\" id=\"DejaVuSans-100\"/>\r\n      <path d=\"M 50.984375 -16.609375 \r\nL 50.984375 -23.578125 \r\nL -0.984375 -23.578125 \r\nL -0.984375 -16.609375 \r\nz\r\n\" id=\"DejaVuSans-95\"/>\r\n      <path d=\"M 30.609375 48.390625 \r\nQ 23.390625 48.390625 19.1875 42.75 \r\nQ 14.984375 37.109375 14.984375 27.296875 \r\nQ 14.984375 17.484375 19.15625 11.84375 \r\nQ 23.34375 6.203125 30.609375 6.203125 \r\nQ 37.796875 6.203125 41.984375 11.859375 \r\nQ 46.1875 17.53125 46.1875 27.296875 \r\nQ 46.1875 37.015625 41.984375 42.703125 \r\nQ 37.796875 48.390625 30.609375 48.390625 \r\nz\r\nM 30.609375 56 \r\nQ 42.328125 56 49.015625 48.375 \r\nQ 55.71875 40.765625 55.71875 27.296875 \r\nQ 55.71875 13.875 49.015625 6.21875 \r\nQ 42.328125 -1.421875 30.609375 -1.421875 \r\nQ 18.84375 -1.421875 12.171875 6.21875 \r\nQ 5.515625 13.875 5.515625 27.296875 \r\nQ 5.515625 40.765625 12.171875 48.375 \r\nQ 18.84375 56 30.609375 56 \r\nz\r\n\" id=\"DejaVuSans-111\"/>\r\n      <path d=\"M 9.421875 75.984375 \r\nL 18.40625 75.984375 \r\nL 18.40625 0 \r\nL 9.421875 0 \r\nz\r\n\" id=\"DejaVuSans-108\"/>\r\n     </defs>\r\n     <g transform=\"translate(662.878125 23.798437)scale(0.1 -0.1)\">\r\n      <use xlink:href=\"#DejaVuSans-79\"/>\r\n      <use x=\"78.710938\" xlink:href=\"#DejaVuSans-114\"/>\r\n      <use x=\"119.808594\" xlink:href=\"#DejaVuSans-100\"/>\r\n      <use x=\"183.285156\" xlink:href=\"#DejaVuSans-101\"/>\r\n      <use x=\"244.808594\" xlink:href=\"#DejaVuSans-114\"/>\r\n      <use x=\"285.921875\" xlink:href=\"#DejaVuSans-95\"/>\r\n      <use x=\"335.921875\" xlink:href=\"#DejaVuSans-116\"/>\r\n      <use x=\"375.130859\" xlink:href=\"#DejaVuSans-111\"/>\r\n      <use x=\"436.3125\" xlink:href=\"#DejaVuSans-116\"/>\r\n      <use x=\"475.521484\" xlink:href=\"#DejaVuSans-97\"/>\r\n      <use x=\"536.800781\" xlink:href=\"#DejaVuSans-108\"/>\r\n     </g>\r\n    </g>\r\n   </g>\r\n  </g>\r\n </g>\r\n <defs>\r\n  <clipPath id=\"pa527934a7e\">\r\n   <rect height=\"326.16\" width=\"669.6\" x=\"58.7375\" y=\"7.2\"/>\r\n  </clipPath>\r\n </defs>\r\n</svg>\r\n",
      "image/png": "[encoded data removed]"
     },
     "metadata": {
      "needs_background": "light"
     }
    }
   ],
   "metadata": {}
  },
  {
   "cell_type": "markdown",
   "source": [
    "## From the exploratory analysis perfomed on the dataset, one is confident to say that the customers are getting better over time, as the customers increased in purchase value, in quantity, and in amount of revenue generated. However, the data for the year 2017 is incomplete, hence, it is not feasible to determine the accurate performance for the year. Although, the values from the first two months of the year indicates a possible positive result."
   ],
   "metadata": {}
  },
  {
   "cell_type": "code",
   "execution_count": null,
   "source": [],
   "outputs": [],
   "metadata": {}
  }
 ],
 "metadata": {
  "orig_nbformat": 4,
  "language_info": {
   "name": "python",
   "version": "3.7.4",
   "mimetype": "text/x-python",
   "codemirror_mode": {
    "name": "ipython",
    "version": 3
   },
   "pygments_lexer": "ipython3",
   "nbconvert_exporter": "python",
   "file_extension": ".py"
  },
  "kernelspec": {
   "name": "python3",
   "display_name": "Python 3.7.4 64-bit ('base': conda)"
  },
  "interpreter": {
   "hash": "49f2d032676b9746713ae2fbda87b7f7ed6a594c6a4231167931b028e61cc48b"
  }
 },
 "nbformat": 4,
 "nbformat_minor": 2
}